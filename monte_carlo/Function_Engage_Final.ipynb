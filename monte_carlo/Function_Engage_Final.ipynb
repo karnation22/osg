{
 "cells": [
  {
   "cell_type": "markdown",
   "metadata": {},
   "source": [
    "# Function to connect the database"
   ]
  },
  {
   "cell_type": "code",
   "execution_count": 2,
   "metadata": {},
   "outputs": [],
   "source": [
    "def get_token(API_ENDPOINT,username,password):\n",
    "    payload = {'username':username,\n",
    "        'password':password}\n",
    "    r = requests.post(url = API_ENDPOINT, data = payload)\n",
    "\n",
    "    data = r.json\n",
    "    ## Need to return only API token --Pending\n",
    "    return data\n",
    "\n",
    "def get_query_result(API_ENDPOINT,api_token,query):\n",
    "    payload = {'query':query}\n",
    "    Headers = {'Authorization':api_token}\n",
    "    r = requests.post(url = API_ENDPOINT,headers=Headers, data = payload)\n",
    "\n",
    "    data = r.json\n",
    "    return data\n",
    "\n",
    "def get_query(query):\n",
    "    API_ENDPOINT = 'http://ec2-34-229-127-227.compute-1.amazonaws.com:8080/cavii-dev/api/login'\n",
    "    username = 'ccdengagetest@gmail.com'\n",
    "    password = 'optimal'\n",
    "    \n",
    "    api_token = get_token(API_ENDPOINT,username,password)\n",
    "    \n",
    "    return get_query_result(API_ENDPOINT,api_token,query)"
   ]
  },
  {
   "cell_type": "markdown",
   "metadata": {},
   "source": [
    "# Functions to get query for the variable Gender, ageGroup,fromDate and toDate"
   ]
  },
  {
   "cell_type": "code",
   "execution_count": 3,
   "metadata": {},
   "outputs": [],
   "source": [
    "def engage_gender(tableName,gender):\n",
    "    from io import StringIO\n",
    "    import pandas as pd\n",
    "    import json\n",
    "    import re\n",
    "    query1 = \"SELECT responseID FROM \" + tableName + \" WHERE\"\n",
    "    #for gender variable\n",
    "    if gender == \"M\":\n",
    "        gender_value = '{value\":\"Male\"}\"'\n",
    "    elif gender == \"F\":\n",
    "        gender_value = '{value\":\"Female\"}\"'\n",
    "    else:\n",
    "        gender_value = '{value\":\"other\"}\"'\n",
    "    if gender!=\"\":\n",
    "        query= query1+\" question_id = SQ008 AND\" +\" response= \"+gender_value+\";\"\n",
    "        return query   "
   ]
  },
  {
   "cell_type": "code",
   "execution_count": 4,
   "metadata": {},
   "outputs": [],
   "source": [
    "def engage_age(tableName,ageGroup):\n",
    "    from io import StringIO\n",
    "    import pandas as pd\n",
    "    import json\n",
    "    import re\n",
    "    query1 = \"SELECT responseID FROM \" + tableName + \" WHERE\"\n",
    "    #for ageGroup variable\n",
    "    if ageGroup == \"16-25\":\n",
    "        ageGroup_value = '{value\":[\"16-25\"]}\"'\n",
    "    elif ageGroup == \"26-35\":\n",
    "        ageGroup_value = '{value\":[\"26-35\"]}\"'\n",
    "    elif ageGroup == \"36-45\":\n",
    "        ageGroup_value = '{value\":[\"36-45\"]}\"'\n",
    "    elif ageGroup == \"46-55\":\n",
    "        ageGroup_value = '{value\":[\"46-55\"]}\"'\n",
    "    elif ageGroup == \"55-65\":\n",
    "        ageGroup_value = '{value\":[\"55-65\"]}\"'\n",
    "    else:\n",
    "        ageGroup_value = '{value\":[\"65+\"]}\"'\n",
    "    if ageGroup!=\"\":\n",
    "        query= query1+\" question_id = SQ007 AND response= \"+ageGroup_value+\";\"\n",
    "    return query"
   ]
  },
  {
   "cell_type": "code",
   "execution_count": 5,
   "metadata": {},
   "outputs": [],
   "source": [
    "def engage_fromdate(tableName,fromDate):\n",
    "    from io import StringIO\n",
    "    import pandas as pd\n",
    "    import json\n",
    "    import re\n",
    "    query1 = \"SELECT responseID FROM \" + tableName + \" WHERE\"\n",
    "    #for ageGroup variable\n",
    "    if fromDate!=\"\":\n",
    "        query = query1+\" fromDate = '\"+fromDate+\"';\"\n",
    "    return query"
   ]
  },
  {
   "cell_type": "code",
   "execution_count": 6,
   "metadata": {},
   "outputs": [],
   "source": [
    "def engage_todate(tableName,toDate):\n",
    "    from io import StringIO\n",
    "    import pandas as pd\n",
    "    import json\n",
    "    import re\n",
    "    query1 = \"SELECT responseID FROM \" + tableName + \" WHERE\"\n",
    "    #for ageGroup variable\n",
    "    if toDate!=\"\":\n",
    "        query = query1+\" toDate = '\"+toDate+\"';\"\n",
    "    return query"
   ]
  },
  {
   "cell_type": "markdown",
   "metadata": {},
   "source": [
    "# Getting a dataframe containing respnseID for all the filters and combining it to one Dataframe"
   ]
  },
  {
   "cell_type": "code",
   "execution_count": 9,
   "metadata": {},
   "outputs": [
    {
     "ename": "NameError",
     "evalue": "name 'gender' is not defined",
     "output_type": "error",
     "traceback": [
      "\u001b[1;31m---------------------------------------------------------------------------\u001b[0m",
      "\u001b[1;31mNameError\u001b[0m                                 Traceback (most recent call last)",
      "\u001b[1;32m<ipython-input-9-05c793e416e8>\u001b[0m in \u001b[0;36m<module>\u001b[1;34m()\u001b[0m\n\u001b[0;32m      1\u001b[0m \u001b[0mFinal_DF\u001b[0m \u001b[1;33m=\u001b[0m \u001b[0mpd\u001b[0m\u001b[1;33m.\u001b[0m\u001b[0mDataFrame\u001b[0m\u001b[1;33m(\u001b[0m\u001b[1;33m)\u001b[0m\u001b[1;33m\u001b[0m\u001b[0m\n\u001b[0;32m      2\u001b[0m \u001b[1;33m\u001b[0m\u001b[0m\n\u001b[1;32m----> 3\u001b[1;33m \u001b[1;32mif\u001b[0m \u001b[0mgender\u001b[0m\u001b[1;33m!=\u001b[0m\u001b[1;34m\"\"\u001b[0m\u001b[1;33m:\u001b[0m\u001b[1;33m\u001b[0m\u001b[0m\n\u001b[0m\u001b[0;32m      4\u001b[0m     \u001b[1;31m#Harish's code\u001b[0m\u001b[1;33m\u001b[0m\u001b[1;33m\u001b[0m\u001b[0m\n\u001b[0;32m      5\u001b[0m     \u001b[0mquery\u001b[0m \u001b[1;33m=\u001b[0m \u001b[0mengage_gender\u001b[0m\u001b[1;33m(\u001b[0m\u001b[0mtableName\u001b[0m\u001b[1;33m,\u001b[0m\u001b[0mgender\u001b[0m\u001b[1;33m)\u001b[0m\u001b[1;33m\u001b[0m\u001b[0m\n",
      "\u001b[1;31mNameError\u001b[0m: name 'gender' is not defined"
     ]
    }
   ],
   "source": [
    "Final_DF = pd.DataFrame()\n",
    "\n",
    "if gender!=\"\":\n",
    "    #Harish's code\n",
    "    query = engage_gender(tableName,gender)\n",
    "    #Sharath's code\n",
    "    df = get_query(query)\n",
    "    #Concating to the main DF\n",
    "    Final_DF = pd.concat([Final_DF,df_gender],axis = 1)\n",
    "\n",
    "\n",
    "if age !=\"\":\n",
    "    query = engage_age(tableName,ageGroup)\n",
    "    #Sharath's code\n",
    "    df = get_query(query)\n",
    "    #Concating to the main DF\n",
    "    Final_DF = pd.concat([Final_DF,df_age],axis = 1)\n",
    "    \n",
    "    \n",
    "if fromDate !=\"\":\n",
    "    query = engage_fromDate(tableName,fromDate)\n",
    "    #Sharath's code\n",
    "    df = get_query(query)\n",
    "    #Concating to the main DF\n",
    "    Final_DF = pd.concat([Final_DF,df_fromDate], axis = 1)  \n",
    "    \n",
    "    \n",
    "if toDate !=\"\":\n",
    "    query = engage_toDate(tableName,toDate)\n",
    "    #Sharath's code\n",
    "    df = get_query(query)\n",
    "    #Concating to the main DF\n",
    "    Final_DF = pd.concat([Final_DF,df_toDate],axis = 1) "
   ]
  },
  {
   "cell_type": "code",
   "execution_count": 8,
   "metadata": {},
   "outputs": [
    {
     "data": {
      "text/html": [
       "<div>\n",
       "<style scoped>\n",
       "    .dataframe tbody tr th:only-of-type {\n",
       "        vertical-align: middle;\n",
       "    }\n",
       "\n",
       "    .dataframe tbody tr th {\n",
       "        vertical-align: top;\n",
       "    }\n",
       "\n",
       "    .dataframe thead th {\n",
       "        text-align: right;\n",
       "    }\n",
       "</style>\n",
       "<table border=\"1\" class=\"dataframe\">\n",
       "  <thead>\n",
       "    <tr style=\"text-align: right;\">\n",
       "      <th></th>\n",
       "      <th>0</th>\n",
       "      <th>0</th>\n",
       "    </tr>\n",
       "  </thead>\n",
       "  <tbody>\n",
       "    <tr>\n",
       "      <th>0</th>\n",
       "      <td>1</td>\n",
       "      <td>1.0</td>\n",
       "    </tr>\n",
       "    <tr>\n",
       "      <th>1</th>\n",
       "      <td>2</td>\n",
       "      <td>2.0</td>\n",
       "    </tr>\n",
       "    <tr>\n",
       "      <th>2</th>\n",
       "      <td>3</td>\n",
       "      <td>3.0</td>\n",
       "    </tr>\n",
       "    <tr>\n",
       "      <th>3</th>\n",
       "      <td>4</td>\n",
       "      <td>4.0</td>\n",
       "    </tr>\n",
       "    <tr>\n",
       "      <th>4</th>\n",
       "      <td>5</td>\n",
       "      <td>NaN</td>\n",
       "    </tr>\n",
       "  </tbody>\n",
       "</table>\n",
       "</div>"
      ],
      "text/plain": [
       "   0    0\n",
       "0  1  1.0\n",
       "1  2  2.0\n",
       "2  3  3.0\n",
       "3  4  4.0\n",
       "4  5  NaN"
      ]
     },
     "execution_count": 8,
     "metadata": {},
     "output_type": "execute_result"
    }
   ],
   "source": [
    "import pandas as pd\n",
    "df = pd.DataFrame()\n",
    "df1 = pd.DataFrame(data = [1,2,3,4,5])\n",
    "df = pd.concat([df,df1],axis=1)\n",
    "df2 = pd.DataFrame(data = [1,2,3,4])\n",
    "df = pd.concat([df,df2],axis=1)\n",
    "df"
   ]
  },
  {
   "cell_type": "code",
   "execution_count": null,
   "metadata": {},
   "outputs": [],
   "source": []
  }
 ],
 "metadata": {
  "kernelspec": {
   "display_name": "Python 3",
   "language": "python",
   "name": "python3"
  },
  "language_info": {
   "codemirror_mode": {
    "name": "ipython",
    "version": 3
   },
   "file_extension": ".py",
   "mimetype": "text/x-python",
   "name": "python",
   "nbconvert_exporter": "python",
   "pygments_lexer": "ipython3",
   "version": "3.6.5"
  }
 },
 "nbformat": 4,
 "nbformat_minor": 2
}
