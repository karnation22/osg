{
 "cells": [
  {
   "cell_type": "code",
   "execution_count": 34,
   "metadata": {},
   "outputs": [],
   "source": [
    "from bs4 import BeautifulSoup\n",
    "import urllib.request\n",
    "import pandas as pd, numpy as np\n",
    "from inscriptis import get_text\n",
    "import warnings, matplotlib.pyplot as plt\n",
    "warnings.filterwarnings(action='ignore', category=UserWarning, module='gensim')\n",
    "from gensim.models import LdaModel\n",
    "from gensim.corpora.dictionary import Dictionary\n",
    "from gensim.parsing.preprocessing import preprocess_string"
   ]
  },
  {
   "cell_type": "code",
   "execution_count": 7,
   "metadata": {},
   "outputs": [
    {
     "data": {
      "text/html": [
       "<div>\n",
       "<style scoped>\n",
       "    .dataframe tbody tr th:only-of-type {\n",
       "        vertical-align: middle;\n",
       "    }\n",
       "\n",
       "    .dataframe tbody tr th {\n",
       "        vertical-align: top;\n",
       "    }\n",
       "\n",
       "    .dataframe thead th {\n",
       "        text-align: right;\n",
       "    }\n",
       "</style>\n",
       "<table border=\"1\" class=\"dataframe\">\n",
       "  <thead>\n",
       "    <tr style=\"text-align: right;\">\n",
       "      <th></th>\n",
       "      <th>link</th>\n",
       "      <th>data</th>\n",
       "    </tr>\n",
       "  </thead>\n",
       "  <tbody>\n",
       "    <tr>\n",
       "      <th>0</th>\n",
       "      <td>https://edition.cnn.com/2018/07/16/asia/india-...</td>\n",
       "      <td>Breaking News\\nWorld+\\nU.S.AfricaAmericasAsiaA...</td>\n",
       "    </tr>\n",
       "    <tr>\n",
       "      <th>1</th>\n",
       "      <td>http://money.cnn.com/INTERNATIONAL/</td>\n",
       "      <td>* Markets\\n  * Economy\\n  * Companies\\n  * T...</td>\n",
       "    </tr>\n",
       "    <tr>\n",
       "      <th>2</th>\n",
       "      <td>http://money.cnn.com/technology/</td>\n",
       "      <td>\\nPlease enable JavaScript to view CNN Tech.\\n...</td>\n",
       "    </tr>\n",
       "    <tr>\n",
       "      <th>3</th>\n",
       "      <td>http://go.cnn.com/?stream=cnni&amp;sr=watchLiveHPb...</td>\n",
       "      <td></td>\n",
       "    </tr>\n",
       "    <tr>\n",
       "      <th>4</th>\n",
       "      <td>http://money.cnn.com/INTERNATIONAL/</td>\n",
       "      <td>* Markets\\n  * Economy\\n  * Companies\\n  * T...</td>\n",
       "    </tr>\n",
       "  </tbody>\n",
       "</table>\n",
       "</div>"
      ],
      "text/plain": [
       "                                                link  \\\n",
       "0  https://edition.cnn.com/2018/07/16/asia/india-...   \n",
       "1                http://money.cnn.com/INTERNATIONAL/   \n",
       "2                   http://money.cnn.com/technology/   \n",
       "3  http://go.cnn.com/?stream=cnni&sr=watchLiveHPb...   \n",
       "4                http://money.cnn.com/INTERNATIONAL/   \n",
       "\n",
       "                                                data  \n",
       "0  Breaking News\\nWorld+\\nU.S.AfricaAmericasAsiaA...  \n",
       "1    * Markets\\n  * Economy\\n  * Companies\\n  * T...  \n",
       "2  \\nPlease enable JavaScript to view CNN Tech.\\n...  \n",
       "3                                                     \n",
       "4    * Markets\\n  * Economy\\n  * Companies\\n  * T...  "
      ]
     },
     "execution_count": 7,
     "metadata": {},
     "output_type": "execute_result"
    }
   ],
   "source": [
    "def getsublink(link):\n",
    "    z = urllib.request.urlopen(link).read().decode('utf-8')\n",
    "    y = get_text(z)\n",
    "    df = pd.DataFrame(columns=['link','data'])\n",
    "    df = df.append({'link': link,'data': y}, ignore_index=True)\n",
    "    resp = urllib.request.urlopen(link)\n",
    "    soup = BeautifulSoup(resp, \"lxml\" , from_encoding=resp.info().get_param('charset'))\n",
    "    try:\n",
    "        for link in soup.find_all('a', href=True):\n",
    "            if(link['href'][0] == 'h' and link['href'][1] == 't'):\n",
    "                x = link['href']\n",
    "                z = urllib.request.urlopen(x).read().decode('utf-8')\n",
    "                y = get_text(z)\n",
    "                df = df.append({'link': x,'data': y}, ignore_index=True)\n",
    "    except:\n",
    "        pass\n",
    "    return df\n",
    "\n",
    "output = getsublink(\"https://edition.cnn.com/2018/07/16/asia/india-whatsapp-lynching-intl/index.html\")\n",
    "output.head()"
   ]
  },
  {
   "cell_type": "code",
   "execution_count": 23,
   "metadata": {},
   "outputs": [
    {
     "name": "stdout",
     "output_type": "stream",
     "text": [
      "before list comprehension\n",
      "after list comprehension\n"
     ]
    }
   ],
   "source": [
    "hyperlinks = ['https://www.ci.san-bernardino.ca.us/','http://www.sbcounty.gov/main/default.aspx',\n",
    "    'https://www.sbsun.com/local-news/','https://www.redlandsdailyfacts.com/location/california/san-bernardino-county/',\n",
    "    'https://www.ci.san-bernardino.ca.us/news/', 'https://www.sbcusd.com/news/',\n",
    "    'http://abc30.com/place/san-bernardino-county/','https://www.dailybulletin.com/location/california/san-bernardino-county/']\n",
    "\n",
    "#get all dataframes for each hyperlink...\n",
    "def get_dataframes(hyperlinks):\n",
    "    lamb_getsublink = (lambda hyperlink: getsublink(hyperlink))\n",
    "    print('before list comprehension')\n",
    "    dataframes = [(hyperlink,lamb_getsublink(hyperlink)) for hyperlink in hyperlinks]\n",
    "    print('after list comprehension')\n",
    "    return dataframes\n",
    "\n",
    "dataframes = get_dataframes(hyperlinks)"
   ]
  },
  {
   "cell_type": "code",
   "execution_count": 24,
   "metadata": {},
   "outputs": [],
   "source": [
    "def append_dataframes(dataframes):\n",
    "    new_dataframes = []\n",
    "    for (hyperlink,dataframe) in dataframes:\n",
    "        preprocsplit = (lambda rev: np.asarray(preprocess_string(rev)))\n",
    "        text_list = dataframe['data'].apply(preprocsplit).values\n",
    "        c_dict = Dictionary(text_list)\n",
    "        c_corp = [c_dict.doc2bow(text) for text in text_list]\n",
    "        lda = LdaModel(c_corp)\n",
    "        topics = [lda.get_document_topics(doc) for doc in c_corp]\n",
    "        topic_list,prob_list = [],[]\n",
    "        for topic in topics:\n",
    "            if(topic==[]): topic_list.append([]), prob_list.append([])\n",
    "            else:\n",
    "                topIDs,probIDs = list(zip(*topic))\n",
    "                topWords = list(map(lambda topID: dict(c_dict)[int(topID)], topIDs))\n",
    "                topic_list.append(topWords), prob_list.append(list(probIDs))\n",
    "        dataframe['topics'],dataframe['probabilities'] = pd.Series(topic_list),pd.Series(prob_list)\n",
    "        new_dataframes.append((hyperlink,dataframe))\n",
    "    return new_dataframes\n",
    "        \n",
    "new_dataframes = append_dataframes(dataframes)"
   ]
  },
  {
   "cell_type": "code",
   "execution_count": 44,
   "metadata": {},
   "outputs": [
    {
     "name": "stdout",
     "output_type": "stream",
     "text": [
      "httpswww.ci.san-bernardino.ca.us\n",
      "httpwww.sbcounty.govmaindefault.aspx\n",
      "httpswww.sbsun.comlocal-news\n",
      "httpswww.redlandsdailyfacts.comlocationcaliforniasan-bernardino-county\n",
      "httpswww.ci.san-bernardino.ca.usnews\n",
      "httpswww.sbcusd.comnews\n",
      "httpabc30.complacesan-bernardino-county\n",
      "httpswww.dailybulletin.comlocationcaliforniasan-bernardino-county\n"
     ]
    }
   ],
   "source": [
    "##output all pandas data into '.csv' file - plot relevant data and output to '.png' file\n",
    "def output_csv(new_dataframes):\n",
    "    for (hyperlink,dataframe) in new_dataframes:\n",
    "        bad_chars = ['*', '[', ']',':',';','|','=',',','/','\\\\']\n",
    "        l_hyper = ''.join([char for char in list(hyperlink) if char not in bad_chars])\n",
    "        print(l_hyper)\n",
    "        f_name,p_name = 'hyperlinkOutput/'+l_hyper+'.csv','hyperlinkOutput/'+l_hyper+'.png'\n",
    "        dataframe.to_csv(f_name)\n",
    "        topics,probs = dataframe['topics'].values,dataframe['probabilities'].values\n",
    "        assert(len(topics)==len(probs))\n",
    "        for index,_ in enumerate(topics):\n",
    "            topic,prob = topics[index],probs[index]\n",
    "            plt.bar(topic,prob)\n",
    "        plt.xlabel('topics'),plt.ylabel('frequency index'),plt.savefig(p_name),plt.close()\n",
    "    return\n",
    "\n",
    "output_csv(new_dataframes)"
   ]
  },
  {
   "cell_type": "code",
   "execution_count": null,
   "metadata": {},
   "outputs": [],
   "source": []
  }
 ],
 "metadata": {
  "kernelspec": {
   "display_name": "Python 3",
   "language": "python",
   "name": "python3"
  },
  "language_info": {
   "codemirror_mode": {
    "name": "ipython",
    "version": 3
   },
   "file_extension": ".py",
   "mimetype": "text/x-python",
   "name": "python",
   "nbconvert_exporter": "python",
   "pygments_lexer": "ipython3",
   "version": "3.6.5"
  }
 },
 "nbformat": 4,
 "nbformat_minor": 2
}
