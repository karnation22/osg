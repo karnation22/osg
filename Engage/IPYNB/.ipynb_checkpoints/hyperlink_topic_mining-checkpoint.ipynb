{
 "cells": [
  {
   "cell_type": "code",
   "execution_count": 5,
   "metadata": {},
   "outputs": [],
   "source": [
    "from bs4 import BeautifulSoup\n",
    "import urllib.request\n",
    "import pandas as pd, numpy as np\n",
    "from inscriptis import get_text\n",
    "import warnings\n",
    "warnings.filterwarnings(action='ignore', category=UserWarning, module='gensim')\n",
    "from gensim.models import LdaModel\n",
    "from gensim.corpora.dictionary import Dictionary\n",
    "from gensim.parsing.preprocessing import preprocess_string"
   ]
  },
  {
   "cell_type": "code",
   "execution_count": 7,
   "metadata": {},
   "outputs": [
    {
     "data": {
      "text/html": [
       "<div>\n",
       "<style scoped>\n",
       "    .dataframe tbody tr th:only-of-type {\n",
       "        vertical-align: middle;\n",
       "    }\n",
       "\n",
       "    .dataframe tbody tr th {\n",
       "        vertical-align: top;\n",
       "    }\n",
       "\n",
       "    .dataframe thead th {\n",
       "        text-align: right;\n",
       "    }\n",
       "</style>\n",
       "<table border=\"1\" class=\"dataframe\">\n",
       "  <thead>\n",
       "    <tr style=\"text-align: right;\">\n",
       "      <th></th>\n",
       "      <th>link</th>\n",
       "      <th>data</th>\n",
       "    </tr>\n",
       "  </thead>\n",
       "  <tbody>\n",
       "    <tr>\n",
       "      <th>0</th>\n",
       "      <td>https://edition.cnn.com/2018/07/16/asia/india-...</td>\n",
       "      <td>Breaking News\\nWorld+\\nU.S.AfricaAmericasAsiaA...</td>\n",
       "    </tr>\n",
       "    <tr>\n",
       "      <th>1</th>\n",
       "      <td>http://money.cnn.com/INTERNATIONAL/</td>\n",
       "      <td>* Markets\\n  * Economy\\n  * Companies\\n  * T...</td>\n",
       "    </tr>\n",
       "    <tr>\n",
       "      <th>2</th>\n",
       "      <td>http://money.cnn.com/technology/</td>\n",
       "      <td>\\nPlease enable JavaScript to view CNN Tech.\\n...</td>\n",
       "    </tr>\n",
       "    <tr>\n",
       "      <th>3</th>\n",
       "      <td>http://go.cnn.com/?stream=cnni&amp;sr=watchLiveHPb...</td>\n",
       "      <td></td>\n",
       "    </tr>\n",
       "    <tr>\n",
       "      <th>4</th>\n",
       "      <td>http://money.cnn.com/INTERNATIONAL/</td>\n",
       "      <td>* Markets\\n  * Economy\\n  * Companies\\n  * T...</td>\n",
       "    </tr>\n",
       "  </tbody>\n",
       "</table>\n",
       "</div>"
      ],
      "text/plain": [
       "                                                link  \\\n",
       "0  https://edition.cnn.com/2018/07/16/asia/india-...   \n",
       "1                http://money.cnn.com/INTERNATIONAL/   \n",
       "2                   http://money.cnn.com/technology/   \n",
       "3  http://go.cnn.com/?stream=cnni&sr=watchLiveHPb...   \n",
       "4                http://money.cnn.com/INTERNATIONAL/   \n",
       "\n",
       "                                                data  \n",
       "0  Breaking News\\nWorld+\\nU.S.AfricaAmericasAsiaA...  \n",
       "1    * Markets\\n  * Economy\\n  * Companies\\n  * T...  \n",
       "2  \\nPlease enable JavaScript to view CNN Tech.\\n...  \n",
       "3                                                     \n",
       "4    * Markets\\n  * Economy\\n  * Companies\\n  * T...  "
      ]
     },
     "execution_count": 7,
     "metadata": {},
     "output_type": "execute_result"
    }
   ],
   "source": [
    "def getsublink(link):\n",
    "    z = urllib.request.urlopen(link).read().decode('utf-8')\n",
    "    y = get_text(z)\n",
    "    df = pd.DataFrame(columns=['link','data'])\n",
    "    df = df.append({'link': link,'data': y}, ignore_index=True)\n",
    "    resp = urllib.request.urlopen(link)\n",
    "    soup = BeautifulSoup(resp, \"lxml\" , from_encoding=resp.info().get_param('charset'))\n",
    "    try:\n",
    "        for link in soup.find_all('a', href=True):\n",
    "            if(link['href'][0] == 'h' and link['href'][1] == 't'):\n",
    "                x = link['href']\n",
    "                z = urllib.request.urlopen(x).read().decode('utf-8')\n",
    "                y = get_text(z)\n",
    "                df = df.append({'link': x,'data': y}, ignore_index=True)\n",
    "    except:\n",
    "        pass\n",
    "    return df\n",
    "\n",
    "output = getsublink(\"https://edition.cnn.com/2018/07/16/asia/india-whatsapp-lynching-intl/index.html\")\n",
    "output.head()"
   ]
  },
  {
   "cell_type": "code",
   "execution_count": 8,
   "metadata": {},
   "outputs": [
    {
     "name": "stdout",
     "output_type": "stream",
     "text": [
      "before list comprehension\n",
      "after list comprehension\n"
     ]
    }
   ],
   "source": [
    "hyperlinks = ['https://www.ci.san-bernardino.ca.us/','http://www.sbcounty.gov/main/default.aspx',\n",
    "    'https://www.sbsun.com/local-news/','https://www.redlandsdailyfacts.com/location/california/san-bernardino-county/',\n",
    "    'https://www.ci.san-bernardino.ca.us/news/', 'https://www.sbcusd.com/news/',\n",
    "    'http://abc30.com/place/san-bernardino-county/','https://www.dailybulletin.com/location/california/san-bernardino-county/']\n",
    "\n",
    "#get all dataframes for each hyperlink...\n",
    "def get_dataframes(hyperlinks):\n",
    "    lamb_getsublink = (lambda hyperlink: getsublink(hyperlink))\n",
    "    print('before list comprehension')\n",
    "    dataframes = [lamb_getsublink(hyperlink) for hyperlink in hyperlinks]\n",
    "    print('after list comprehension')\n",
    "    for dataframe in dataframes:\n",
    "        dataframe.head()\n",
    "    return dataframes\n",
    "\n",
    "dataframes = get_dataframes(hyperlinks)"
   ]
  },
  {
   "cell_type": "code",
   "execution_count": 16,
   "metadata": {},
   "outputs": [
    {
     "name": "stdout",
     "output_type": "stream",
     "text": [
      "(15,) (0.9950251,)\n",
      "(6,) (0.934,)\n",
      "(14, 23, 36, 76) (0.08976852, 0.5686977, 0.124570794, 0.21533543)\n",
      "(1, 35, 51, 60) (0.2624897, 0.56989425, 0.0886214, 0.07635358)\n",
      "(21, 81, 97) (0.22738346, 0.74701834, 0.02393439)\n",
      "(90,) (0.9987405,)\n",
      "(74,) (0.9970797,)\n",
      "(23, 55) (0.07950049, 0.9139496)\n"
     ]
    }
   ],
   "source": [
    "def append_dataframes(dataframes):\n",
    "    new_dataframes = []\n",
    "    for dataframe in dataframes:\n",
    "        preprocsplit = (lambda rev: np.asarray(preprocess_string(rev)))\n",
    "        text_list = dataframe['data'].apply(preprocsplit).values\n",
    "        c_dict = Dictionary(text_list)\n",
    "        c_corp = [c_dict.doc2bow(text) for text in text_list]\n",
    "        lda = LdaModel(c_corp)\n",
    "        topics = [lda.get_document_topics(doc) for doc in c_corp]\n",
    "        topic_list,prob_list = [],[]\n",
    "        for topic in topics:\n",
    "            if(topic==[]): topic_list.append([]), prob_list.append([])\n",
    "            else:\n",
    "                topIDs,probIDs = list(zip(*topic))\n",
    "                \n",
    "        \n",
    "        \n",
    "append_dataframes(dataframes)"
   ]
  },
  {
   "cell_type": "code",
   "execution_count": null,
   "metadata": {},
   "outputs": [],
   "source": []
  }
 ],
 "metadata": {
  "kernelspec": {
   "display_name": "Python 3",
   "language": "python",
   "name": "python3"
  },
  "language_info": {
   "codemirror_mode": {
    "name": "ipython",
    "version": 3
   },
   "file_extension": ".py",
   "mimetype": "text/x-python",
   "name": "python",
   "nbconvert_exporter": "python",
   "pygments_lexer": "ipython3",
   "version": "3.6.5"
  }
 },
 "nbformat": 4,
 "nbformat_minor": 2
}
