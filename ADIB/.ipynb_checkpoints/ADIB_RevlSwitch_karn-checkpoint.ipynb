{
 "cells": [
  {
   "cell_type": "code",
   "execution_count": 2,
   "metadata": {},
   "outputs": [],
   "source": [
    "import pandas as pd\n",
    "import numpy as np\n",
    "import matplotlib.pyplot as plt\n",
    "import os"
   ]
  },
  {
   "cell_type": "code",
   "execution_count": null,
   "metadata": {},
   "outputs": [],
   "source": [
    "#Selecting the working directory \n",
    "## (change file path depending on user...) ##\n",
    "os.chdir('C:\\Users\\Karnkumar Dalmia\\OPTIMAL STRATEGIX GROUP INC\\Anuja Mitra - ADIB\\Card Performance and Demographics data')\n",
    "#importing the files\n",
    "jan_2017 = pd.read_sas('card201701.sas7bdat') #df1\n",
    "feb_2017 = pd.read_sas('card201702.sas7bdat') #df2\n",
    "mar_2017 = pd.read_sas('card201703.sas7bdat') #df3\n",
    "apr_2017 = pd.read_sas('card201704.sas7bdat') #df4\n",
    "may_2017 = pd.read_sas('card201705.sas7bdat') #df5\n",
    "jun_2017 = pd.read_sas('card201706.sas7bdat') #df6\n",
    "jul_2017 = pd.read_sas('card201707.sas7bdat') #df7\n",
    "aug_2017 = pd.read_sas('card201708.sas7bdat') #df8\n",
    "sep_2017 = pd.read_sas('card201709.sas7bdat') #df9\n",
    "oct_2017 = pd.read_sas('card201710.sas7bdat') #df10\n",
    "nov_2017 = pd.read_sas('card201711.sas7bdat') #df11\n",
    "dec_2017 = pd.read_sas('card201712.sas7bdat') #df12"
   ]
  },
  {
   "cell_type": "code",
   "execution_count": 3,
   "metadata": {},
   "outputs": [],
   "source": [
    "#grouping them under one list\n",
    "frames = [jan_2017, feb_2017, mar_2017, apr_2017, may_2017, jun_2017, jul_2017, aug_2017, sep_2017, oct_2017, nov_2017, dec_2017]"
   ]
  },
  {
   "cell_type": "markdown",
   "metadata": {},
   "source": [
    "Next, we need to write a function that iterates through all of the dataframes and their respective rows. Churn out any transition from **0 to 1 OR 1 to 0**. Then, map such transitions to two different dictionaries, and append the (1) month of the transition, (2) IncomeBand during transition, and (3) credit limit during transition..."
   ]
  },
  {
   "cell_type": "code",
   "execution_count": 1,
   "metadata": {},
   "outputs": [
    {
     "ename": "NameError",
     "evalue": "name 'frames' is not defined",
     "output_type": "error",
     "traceback": [
      "\u001b[1;31m---------------------------------------------------------------------------\u001b[0m",
      "\u001b[1;31mNameError\u001b[0m                                 Traceback (most recent call last)",
      "\u001b[1;32m<ipython-input-1-0b791240eadc>\u001b[0m in \u001b[0;36m<module>\u001b[1;34m()\u001b[0m\n\u001b[0;32m     18\u001b[0m \u001b[1;33m\u001b[0m\u001b[0m\n\u001b[0;32m     19\u001b[0m \u001b[1;33m\u001b[0m\u001b[0m\n\u001b[1;32m---> 20\u001b[1;33m \u001b[0md0to1\u001b[0m \u001b[1;33m=\u001b[0m \u001b[0mpopulate_dictionaries\u001b[0m\u001b[1;33m(\u001b[0m\u001b[0mframes\u001b[0m\u001b[1;33m)\u001b[0m\u001b[1;33m\u001b[0m\u001b[0m\n\u001b[0m\u001b[0;32m     21\u001b[0m \u001b[1;33m\u001b[0m\u001b[0m\n",
      "\u001b[1;31mNameError\u001b[0m: name 'frames' is not defined"
     ]
    }
   ],
   "source": [
    "def populate_dictionaries(frames):\n",
    "    d0to1 = dict()\n",
    "    \n",
    "    # iterate through all of the months\n",
    "    for(month, m_frame) in enumerate(frames, 1):\n",
    "            # iterate through all of the rows in the month, and populate the dictionaries\n",
    "        for (_,m_row) in m_frame.iterrows():\n",
    "            if(str(int(m_row['SerialNo'])) not in d0to1): d0to1[str(int(m_row['SerialNo']))] = [-1, list(), list(), list(), \\\n",
    "                                    list(), list(), list(), list(), list()]\n",
    "            #now we know the serial number is in d0to1 (check if transition occured)\n",
    "            elif(d0to1[str(int(m_row['SerialNo']))][0]==0 and int(m_row['RevlFlag'])==1): \n",
    "                d0to1[str(int(m_row['SerialNo']))][1].append(month) #append on month\n",
    "                d0to1[str(int(m_row['SerialNo']))][2].append(m_row['IncomeBand']) #append IncomeBand\n",
    "                d0to1[str(int(m_row['SerialNo']))][3].append(m_row['Climit']) #append credit limit\n",
    "            d0to1[str(int(m_row['SerialNo']))][0] = int(m_row['RevlFlag']) #update flag once done\n",
    "            \n",
    "        print(month)\n",
    "    return(d0to1)\n",
    "                \n",
    "                \n",
    "d0to1 = populate_dictionaries(frames)\n",
    "    "
   ]
  },
  {
   "cell_type": "markdown",
   "metadata": {},
   "source": [
    "Next, we are going to look at each dictionary to see some sample serial numbers and their respective transition data"
   ]
  },
  {
   "cell_type": "code",
   "execution_count": 5,
   "metadata": {},
   "outputs": [
    {
     "name": "stdout",
     "output_type": "stream",
     "text": [
      "We'll print 20 samples for the 0|->1 transition\n",
      "('1000177', [1, [], [], [], [], [], [], [], []])\n",
      "('1000179', [1, [], [], [], [], [], [], [], []])\n",
      "('1000181', [1, [], [], [], [], [], [], [], []])\n",
      "('1000208', [1, [], [], [], [], [], [], [], []])\n",
      "('1000212', [1, [8], ['10K - 14K  income'], [5000.0], [], [], [], [], []])\n",
      "('1000227', [0, [], [], [], [], [], [], [], []])\n",
      "('1000234', [0, [5, 8], ['< 8K income', '< 8K income'], [5000.0, 5000.0], [], [], [], [], []])\n",
      "('1000235', [1, [], [], [], [], [], [], [], []])\n",
      "('1000242', [1, [], [], [], [], [], [], [], []])\n",
      "('1000255', [0, [], [], [], [], [], [], [], []])\n",
      "('1000257', [0, [], [], [], [], [], [], [], []])\n",
      "('1000260', [0, [], [], [], [], [], [], [], []])\n",
      "('1000265', [0, [], [], [], [], [], [], [], []])\n",
      "('1000276', [0, [], [], [], [], [], [], [], []])\n",
      "('1000287', [1, [], [], [], [], [], [], [], []])\n",
      "('1000289', [0, [], [], [], [], [], [], [], []])\n",
      "('1000291', [0, [], [], [], [], [], [], [], []])\n",
      "('1000294', [1, [], [], [], [], [], [], [], []])\n",
      "('1000295', [0, [], [], [], [], [], [], [], []])\n",
      "('1000296', [0, [], [], [], [], [], [], [], []])\n"
     ]
    }
   ],
   "source": [
    "#cute little function that prints out a few samples of entries...\n",
    "def print_samples(d0to1, samples=20):\n",
    "    counter = 0\n",
    "    print(\"We'll print %d samples for the 0|->1 transition\"%samples)\n",
    "    for serialNo in sorted(d0to1):\n",
    "        if(counter==samples): break\n",
    "        print(serialNo, d0to1[serialNo])\n",
    "        counter+=1\n",
    "    return\n",
    "\n",
    "print_samples(d0to1)\n",
    "    "
   ]
  },
  {
   "cell_type": "markdown",
   "metadata": {},
   "source": [
    "Lets remove the revl_flag for all of the values of keys in both dictionaries since we don't really need them anymore; also remove the empty rows since those don't contribute to the revolving transition case..."
   ]
  },
  {
   "cell_type": "code",
   "execution_count": 6,
   "metadata": {},
   "outputs": [],
   "source": [
    "def remove_revl(d0to1):\n",
    "    d0to1_new = dict()\n",
    "    for k0to1 in d0to1:\n",
    "        if(d0to1[k0to1][1] != []): d0to1_new[k0to1] = d0to1[k0to1][1:]\n",
    "    return d0to1_new\n",
    "\n",
    "d0to1_new = remove_revl(d0to1)"
   ]
  },
  {
   "cell_type": "markdown",
   "metadata": {},
   "source": [
    "Let's print it a few samples again, without the revolving flag present in the data..."
   ]
  },
  {
   "cell_type": "code",
   "execution_count": 7,
   "metadata": {},
   "outputs": [
    {
     "name": "stdout",
     "output_type": "stream",
     "text": [
      "We'll print 20 samples for the 0|->1 transition\n",
      "('1000212', [[8], ['10K - 14K  income'], [5000.0], [], [], [], [], []])\n",
      "('1000234', [[5, 8], ['< 8K income', '< 8K income'], [5000.0, 5000.0], [], [], [], [], []])\n",
      "('1000332', [[6, 9], ['30K+ Income', '30K+ Income'], [50000.0, 50000.0], [], [], [], [], []])\n",
      "('1000869', [[12], ['10K - 14K  income'], [11000.0], [], [], [], [], []])\n",
      "('1000883', [[6, 9, 12], ['30K+ Income', '30K+ Income', '30K+ Income'], [50000.0, 50000.0, 50000.0], [], [], [], [], []])\n",
      "('1000903', [[7], ['30K+ Income'], [15000.0], [], [], [], [], []])\n",
      "('1000916', [[12], ['30K+ Income'], [5000.0], [], [], [], [], []])\n",
      "('1000924', [[5], ['30K+ Income'], [30000.0], [], [], [], [], []])\n",
      "('1001010', [[4, 8, 10], ['14K - 30K  income', '14K - 30K  income', '14K - 30K  income'], [15000.0, 15000.0, 15000.0], [], [], [], [], []])\n",
      "('1001020', [[6], ['30K+ Income'], [45000.0], [], [], [], [], []])\n",
      "('1001026', [[6], ['30K+ Income'], [50000.0], [], [], [], [], []])\n",
      "('1001030', [[6], ['< 8K income'], [10000.0], [], [], [], [], []])\n",
      "('1001034', [[2, 5, 10], ['14K - 30K  income', '14K - 30K  income', '14K - 30K  income'], [20000.0, 20000.0, 20000.0], [], [], [], [], []])\n",
      "('1001054', [[6, 12], ['14K - 30K  income', '14K - 30K  income'], [10000.0, 10000.0], [], [], [], [], []])\n",
      "('1001060', [[8], ['14K - 30K  income'], [5000.0], [], [], [], [], []])\n",
      "('1001068', [[7, 9, 11], ['14K - 30K  income', '14K - 30K  income', '14K - 30K  income'], [10000.0, 10000.0, 10000.0], [], [], [], [], []])\n",
      "('1001076', [[9, 11], ['30K+ Income', '30K+ Income'], [10000.0, 10000.0], [], [], [], [], []])\n",
      "('1001091', [[2], ['14K - 30K  income'], [15000.0], [], [], [], [], []])\n",
      "('1001097', [[2, 6, 11], ['14K - 30K  income', '14K - 30K  income', '14K - 30K  income'], [38000.0, 38000.0, 10000.0], [], [], [], [], []])\n",
      "('1001120', [[7], ['30K+ Income'], [100000.0], [], [], [], [], []])\n"
     ]
    }
   ],
   "source": [
    "print_samples(d0to1_new)"
   ]
  },
  {
   "cell_type": "markdown",
   "metadata": {},
   "source": [
    "Next, we will append four more columns, \"Trans Date/Time\", \"Merchant Type\", \"Merchant Name\", and \"Amount\" to delineate specific transactions for months in which a revolving occured..."
   ]
  },
  {
   "cell_type": "code",
   "execution_count": 8,
   "metadata": {},
   "outputs": [
    {
     "name": "stdout",
     "output_type": "stream",
     "text": [
      "done January\n",
      "done February\n",
      "done March\n",
      "done April\n",
      "done May\n",
      "done June\n",
      "done July\n",
      "done August\n",
      "done September\n",
      "done October\n",
      "done November\n",
      "done December\n"
     ]
    }
   ],
   "source": [
    "os.chdir('C:\\Users\\Karnkumar Dalmia\\OPTIMAL STRATEGIX GROUP INC\\Anuja Mitra - ADIB\\Transaction Data')\n",
    "\n",
    "jan_trans = pd.read_sas(\"sp201701.sas7bdat\")\n",
    "print(\"done January\")\n",
    "feb_trans = pd.read_sas(\"sp201702.sas7bdat\")\n",
    "print(\"done February\")\n",
    "mar_trans = pd.read_sas(\"sp201703.sas7bdat\")\n",
    "print(\"done March\")\n",
    "apr_trans = pd.read_sas(\"sp201704.sas7bdat\")\n",
    "print(\"done April\")\n",
    "may_trans = pd.read_sas(\"sp201705.sas7bdat\")\n",
    "print(\"done May\")\n",
    "jun_trans = pd.read_sas(\"sp201706.sas7bdat\")\n",
    "print(\"done June\")\n",
    "jul_trans = pd.read_sas(\"sp201707.sas7bdat\")\n",
    "print(\"done July\")\n",
    "aug_trans = pd.read_sas(\"sp201708.sas7bdat\")\n",
    "print(\"done August\")\n",
    "sep_trans = pd.read_sas(\"sp201709.sas7bdat\")\n",
    "print(\"done September\")\n",
    "oct_trans = pd.read_sas(\"sp201710.sas7bdat\")\n",
    "print(\"done October\")\n",
    "nov_trans = pd.read_sas(\"sp201711.sas7bdat\")\n",
    "print(\"done November\")\n",
    "dec_trans = pd.read_sas(\"sp201712.sas7bdat\")\n",
    "print(\"done December\")"
   ]
  },
  {
   "cell_type": "code",
   "execution_count": 9,
   "metadata": {},
   "outputs": [],
   "source": [
    "#Throw all months of transaction data into one mapping of month to dataframe\n",
    "\n",
    "trans_map = {1: jan_trans, 2: feb_trans, 3: mar_trans, 4: apr_trans, 5: may_trans, 6: jun_trans, 7: jul_trans, \\\n",
    "            8: aug_trans, 9: sep_trans, 10: oct_trans, 11: nov_trans, 12: dec_trans}"
   ]
  },
  {
   "cell_type": "code",
   "execution_count": 10,
   "metadata": {},
   "outputs": [
    {
     "name": "stdout",
     "output_type": "stream",
     "text": [
      "[3, 4, 6, 7]\n"
     ]
    }
   ],
   "source": [
    "#helper function to find relevant months for which we need to analyze the transactions ((all months)) and then ((all_months-1))_\n",
    "def find_relevant_months(list_of_months):\n",
    "    prev_months = [mon-1 for mon in list_of_months]\n",
    "    prev_months = [mon+12 if mon==0 else mon for mon in prev_months]\n",
    "    #set of all months which we care about (months in list_of_months and all those months-1...)\n",
    "    all_months = set(prev_months).union(set(list_of_months))\n",
    "    return sorted(list(all_months))\n",
    "\n",
    "print(find_relevant_months([4,7])) #outputs [3,4,6,7]"
   ]
  },
  {
   "cell_type": "code",
   "execution_count": 11,
   "metadata": {},
   "outputs": [
    {
     "name": "stdout",
     "output_type": "stream",
     "text": [
      "0\n",
      "10\n",
      "20\n",
      "30\n",
      "40\n",
      "50\n",
      "60\n",
      "70\n",
      "80\n",
      "90\n",
      "100\n"
     ]
    }
   ],
   "source": [
    "#simply populate the four columns Geerthi instructed...\n",
    "def populate_columns(d0to1_new):\n",
    "    for (counter, serialNo) in enumerate(sorted(d0to1_new)):\n",
    "        rel_mons_ind = find_relevant_months(d0to1_new[serialNo][0])\n",
    "        rel_mons = pd.concat(list(map(lambda mon: trans_map[mon], rel_mons_ind)))\n",
    "        rel_all = rel_mons.loc[rel_mons['CACCSERNO']==float(serialNo)]\n",
    "        d0to1_new[serialNo][3] = list(rel_all['TrxnDate'])\n",
    "        d0to1_new[serialNo][4] = list(rel_all['MerchType'])\n",
    "        d0to1_new[serialNo][5] = list(rel_all['MerchName'])\n",
    "        d0to1_new[serialNo][6] = list(rel_all['Spend'])\n",
    "        d0to1_new[serialNo][7] = list(rel_all['AMOUNT'])\n",
    "    return d0to1_new\n",
    "\n",
    "\n",
    "d0to1_new = populate_columns(d0to1_new)"
   ]
  },
  {
   "cell_type": "markdown",
   "metadata": {},
   "source": [
    "Lets print more samples, one more time"
   ]
  },
  {
   "cell_type": "code",
   "execution_count": 12,
   "metadata": {},
   "outputs": [
    {
     "name": "stdout",
     "output_type": "stream",
     "text": [
      "We'll print 20 samples for the 0|->1 transition\n",
      "('1000212', [[8], ['10K - 14K  income'], [5000.0], [20170630.0, 20170630.0, 20170712.0, 20170702.0, 20170716.0, 20170717.0, 20170717.0, 20170718.0, 20170711.0, 20170711.0, 20170708.0, 20170708.0, 20170708.0, 20170713.0, 20170713.0, 20170813.0, 20170811.0, 20170811.0, 20170804.0, 20170804.0, 20170803.0, 20170818.0, 20170819.0, 20170818.0, 20170818.0, 20170823.0, 20170823.0, 20170823.0, 20170823.0, 20170823.0], [3236.0, 5812.0, 5541.0, 5411.0, 5814.0, 5814.0, 5541.0, 4814.0, 5814.0, 5441.0, 5814.0, 5814.0, 5814.0, 3236.0, 3236.0, 5814.0, 5411.0, 5812.0, 5814.0, 4814.0, 5541.0, 5814.0, 5411.0, 5411.0, 5912.0, 5541.0, 5541.0, 5812.0, 5712.0, 5411.0], ['AIR ARABIA PJSC', 'SONIA COMPANY LLC', 'ADNOC EMIRATES', 'CARREFOUR FESTIVAL CITY', 'SEA SHELL CAFE & REST', 'MCDONALDS-NOURAH SHJ', 'ADNOC AL SHARJAH', 'ETISALAT-SHJ-MAIN MAN1', 'BOMBAY CHOPATTY RESTAURAN', 'PATCHI LLC', 'BOMBAY CHOPATTY RESTAURAN', 'BOMBAY CHOPATTY RESTAURAN', 'BOMBAY CHOPATTY RESTAURAN', 'AIR ARABIA PJSC', 'AIR ARABIA PJSC', 'FIRST FOOD SRVS LLC-BURGE', 'CARREFOUR FESTIVAL CITY', 'SULTAN BABA RESTAURANT', 'FIRST FOOD SRVS LLC-BURGE', 'ETISALAT- DFC', 'ADNOC AL TALLA S/S-797', 'YUMMY WAFFLE CAFE', 'MALL MART LLC', 'CARREFOUR FESTIVAL CITY', 'LIFE HEALTHCARE GROUP', 'EMARAT-RAJHAN(5335)C/STOR', 'EMARAT-RAJHAN (5335)', 'ARMAN CAFE', 'HOME CENTRE', 'HYPER RAMEZ'], [992.73, 75.65, 54.97, 698.0, 73.5, 108.0, 95.0, 235.0, 20.0, 230.0, 72.0, 29.0, 29.0, 248.86, 1097.67, 75.0, 89.0, 69.6, 19.0, 994.23, 117.0, 34.5, 34.5, 27.0, 42.78, 200.0, 45.0, 88.0, 267.0, 128.65], [-992.73, -75.65, -54.97, -698.0, -73.5, -108.0, -95.0, -235.0, -20.0, -230.0, -72.0, -29.0, -29.0, -248.86, -1097.67, -75.0, -89.0, -69.6, -19.0, -994.23, -117.0, -34.5, -34.5, -27.0, -42.78, -200.0, -45.0, -88.0, -267.0, -128.65]])\n",
      "('1000234', [[5, 8], ['< 8K income', '< 8K income'], [5000.0, 5000.0], [20170407.0, 20170413.0, 20170405.0, 20170405.0, 20170414.0, 20170414.0, 20170331.0, 20170428.0, 20170428.0, 20170427.0, 20170427.0, 20170518.0, 20170430.0, 20170513.0, 20170513.0, 20170509.0, 20170509.0, 20170505.0, 20170526.0, 20170525.0, 20170525.0, 20170525.0, 20170625.0, 20170710.0, 20170722.0, 20170720.0, 20170722.0, 20170721.0, 20170721.0, 20170719.0, 20170727.0, 20170724.0, 20170725.0, 20170727.0, 20170727.0, 20170721.0, 20170720.0, 20170721.0, 20170721.0, 20170810.0, 20170730.0, 20170730.0, 20170805.0], [4722.0, 5735.0, 5735.0, 4899.0, 3750.0, 3750.0, 4812.0, 5968.0, 5968.0, 4816.0, 5968.0, 4814.0, 7372.0, 5735.0, 5735.0, 5816.0, 5541.0, 5968.0, 5812.0, 4722.0, 5912.0, 5411.0, 3026.0, 4899.0, 5411.0, 8299.0, 5814.0, 5611.0, 7832.0, 5411.0, 8299.0, 5411.0, 5814.0, 5968.0, 9399.0, 5968.0, 6010.0, 5311.0, 7832.0, 7399.0, 4814.0, 5411.0, 8299.0], ['AGODA HOTEL RESERVATIO', 'ITUNES.COM/BILL', 'ITUNES.COM/BILL', 'NETFLIX.COM', 'CROWNE PLAZA HOTEL', 'CROWNE PLAZA HOTEL', 'DU (EITC)', 'WWW.RACINGPOST.COM', 'WWW.RACINGPOST.COM', 'DNH*GODADDY.COM', 'LINKEDIN-231*9842555', 'DU (EITC)', 'BLS*BALTSOFT37061333331', 'ITUNES.COM/BILL', 'ITUNES.COM/BILL', 'MICROSOFT   *STORE', 'ENOC-SITE NO.85', 'NETFLIX.COM', 'SEA VIEW RESTAURANT', 'AGODA HOTEL RESERVATIO', 'ELITE PHARMACY', 'EXPRESS BLUE MART S824', 'EMIRATES    WTSSB/26JUN20', 'NETFLIX.COM', 'T CHOITHRAM AND SONS LLC', 'BELHASA', 'ZAATAR W ZEIT', 'HOLLISTER FASHION LLC', 'REEL CINEMA-DUBAI MARINA', 'T.CHOITHRAM AND SONS LLC', 'BELHASA', 'UNION CO-OPERATIVE SOCIET', 'LANDMARK FOODS LLC', 'LINKEDIN-238*4729605', 'SMART DUBAI GOVERNMENT', 'LINKEDIN-237*9895965', 'IB-Transfer-24265038', 'DEBENHAMS CC 3889', 'EMAAR RETAILS LLC REEL CI', 'GOOGLE *Google Storage', 'Etisalat Telecom Corp', 'WEST ZONE FRESH SUPERMARK', 'BELHASA'], [2706.55, 10.99, 7.29, 48.0, 756.68, 1891.7, 990.0, 56.42, 71.14, 248.51, 226.98, 380.0, 34.05, 10.99, 19.99, 26.45, 100.0, 47.96, 310.0, 199.18, 284.5, 140.5, 75.0, 47.74, 107.7, 870.0, 86.0, 310.0, 127.0, 276.35, 870.0, 146.89, 33.0, 226.97, 2279.25, 226.98, 1000.0, 90.0, 360.0, 7.49, 299.4, 89.8, 870.0], [-2706.55, -10.99, -7.29, -48.0, -756.68, -1891.7, -990.0, -56.42, -71.14, -248.51, -226.98, -380.0, -34.05, -10.99, -19.99, -26.45, -100.0, -47.96, -310.0, -199.18, -284.5, -140.5, -75.0, -47.74, -107.7, -870.0, -86.0, -310.0, -127.0, -276.35, -870.0, -146.89, -33.0, -226.97, -2279.25, -226.98, -1000.0, -90.0, -360.0, -7.49, -299.4, -89.8, -870.0]])\n",
      "('1000332', [[6, 9], ['30K+ Income', '30K+ Income'], [50000.0, 50000.0], [20170513.0, 20170507.0, 20170508.0, 20170501.0, 20170520.0, 20170515.0, 20170515.0, 20170515.0, 20170514.0, 20170516.0, 20170607.0, 20170529.0, 20170601.0, 20170612.0, 20170617.0, 20170620.0, 20170819.0, 20170819.0, 20170819.0, 20170819.0, 20170820.0, 20170822.0, 20170817.0, 20170818.0, 20170813.0, 20170805.0, 20170731.0, 20170801.0, 20170803.0, 20170801.0, 20170802.0, 20170808.0, 20170810.0, 20170811.0, 20170811.0, 20170827.0, 20170823.0, 20170822.0, 20170822.0, 20170826.0, 20170826.0, 20170825.0, 20170831.0, 20170921.0, 20170919.0, 20170923.0, 20170920.0, 20170920.0, 20170901.0, 20170927.0, 20170927.0], [8062.0, 7278.0, 8062.0, 7997.0, 4899.0, 5651.0, 5541.0, 9399.0, 8062.0, 8099.0, 9399.0, 4899.0, 7997.0, 9399.0, 7278.0, 4899.0, 5814.0, 5411.0, 5814.0, 5814.0, 4899.0, 7832.0, 5541.0, 7832.0, 5814.0, 5661.0, 5541.0, 7997.0, 5541.0, 7997.0, 9399.0, 9399.0, 7832.0, 5814.0, 5661.0, 9399.0, 9399.0, 7832.0, 9399.0, 8699.0, 5712.0, 5912.0, 5816.0, 5651.0, 5541.0, 5411.0, 4899.0, 7832.0, 7997.0, 5541.0, 9399.0], ['DR.K MEDICAL CENTER JLT', 'www.groupon.ae', 'DR.K MEDICAL CENTER JLT', 'LEISURE UNLIMITE-242864', 'OSN - Gulf DTH FZ LLC', 'SPLASH GULF LLC', 'EMARAT -AL MAWRID (6740)', 'AAFAQ ISLAMIC FINANCE', 'DR.K MEDICAL CENTER JLT', 'CONCEIVE GYNAECOLOGY AND', 'Ministry of Economy', 'OSN - Gulf DTH FZ LLC', 'LEISURE UNLIMITE-242864', 'SMART DUBAI GOVERNMENT', 'www.groupon.ae', 'OSN - Gulf DTH FZ LLC', 'KRISPY KREME DOUGHNUTS BR', 'CARREFOUR MARKET DUBAI OA', 'STARBUCKS - CC 4231', 'STARBUCKS - CC 4231', 'OSN - Gulf DTH FZ LLC', 'NOVO CINEMAS GULF FILM LL', 'EMARAT-GARHOUD(1390)', 'EMAAR RETAILS LLC REEL CI', 'KRIS KROS RESTAURANT', 'SHOES CORNER TRADING LLC-', 'EMARAT-BIN HENDI(6440)', 'LEISURE UNLIMITE-242864', 'EMARAT-AL MAWRID(6740)C/S', 'LEISURE UNLIMITE-242864', 'DED (AUH MAIN BRANCH)', 'DED (AUH MAIN BRANCH)', 'EMAAR RETAILS LLC REEL CI', 'KUWAIT FOOD CO AMERICANA', 'SHOES CORNER TRADING LLC-', 'Ministry of Economy', 'DED (AUH MAIN BRANCH)', 'GULF FILM LLC', 'NMC Online Payment', 'DUBAI WORLD TRADE CTR LLC', 'HOME STYLE', 'SAFA SOCIETY PHARMACY LLC', 'PLAYSTATIONNETWORK', 'LIWA TRADING ENTERPRISES', 'EMARAT-DANA(1275)', 'CARREFOUR MARKET DUBAI OA', 'OSN - Gulf DTH FZ LLC', 'NOVO CINEMAS GULF FILM LL', 'LEISURE UNLIMITE-242864', 'EMARAT-DANA(1275)', 'SMART DUBAI GOVERNMENT'], [9940.0, 129.0, 2850.0, 382.0, 312.38, 337.0, 43.0, 633.64, 300.0, 20200.0, 2757.06, 29.4, 382.0, 841.0, 199.0, 312.38, 45.0, 37.35, 64.0, 19.0, 312.38, 120.0, 112.0, 180.0, 232.0, 530.0, 110.0, 343.0, 52.0, 343.0, 100.0, 350.0, 135.0, 43.0, 975.0, 10203.06, 14941.2, 124.0, 3063.06, 75.0, 21.0, 445.0, 226.99, 291.0, 95.0, 129.8, 312.38, 80.0, 343.0, 86.0, 270.0], [-9940.0, -129.0, -2850.0, -382.0, -312.38, -337.0, -43.0, -633.64, -300.0, -20200.0, -2757.06, -29.4, -382.0, -841.0, -199.0, -312.38, -45.0, -37.35, -64.0, -19.0, -312.38, -120.0, -112.0, -180.0, -232.0, -530.0, -110.0, -343.0, -52.0, -343.0, -100.0, -350.0, -135.0, -43.0, -975.0, -10203.06, -14941.2, -124.0, -3063.06, -75.0, -21.0, -445.0, -226.99, -291.0, -95.0, -129.8, -312.38, -80.0, -343.0, -86.0, -270.0]])\n",
      "('1000869', [[12], ['10K - 14K  income'], [11000.0], [20171206.0], [5399.0], ['BRIGHT CARDBOARD'], [10000.0], [-10000.0]])\n",
      "('1000883', [[6, 9, 12], ['30K+ Income', '30K+ Income', '30K+ Income'], [50000.0, 50000.0, 50000.0], [20170518.0, 20170516.0, 20170517.0, 20170525.0, 20170520.0, 20170525.0, 20170523.0, 20170523.0, 20170526.0, 20170514.0, 20170515.0, 20170515.0, 20170515.0, 20170516.0, 20170516.0, 20170516.0, 20170511.0, 20170509.0, 20170514.0, 20170510.0, 20170510.0, 20170510.0, 20170513.0, 20170511.0, 20170509.0, 20170514.0, 20170508.0, 20170506.0, 20170506.0, 20170507.0, 20170506.0, 20170506.0, 20170509.0, 20170507.0, 20170506.0, 20170508.0, 20170508.0, 20170503.0, 20170505.0, 20170502.0, 20170503.0, 20170502.0, 20170503.0, 20170503.0, 20170501.0, 20170430.0, 20170501.0, 20170502.0, 20170516.0, 20170526.0, 20170526.0, 20170528.0, 20170527.0, 20170515.0, 20170525.0, 20170520.0, 20170527.0, 20170525.0, 20170523.0, 20170526.0, 20170522.0, 20170522.0, 20170516.0, 20170522.0, 20170522.0, 20170521.0, 20170528.0, 20170526.0, 20170525.0, 20170611.0, 20170605.0, 20170605.0, 20170605.0, 20170530.0, 20170530.0, 20170530.0, 20170612.0, 20170613.0, 20170612.0, 20170602.0, 20170601.0, 20170601.0, 20170601.0, 20170611.0, 20170612.0, 20170625.0, 20170625.0, 20170623.0, 20170623.0, 20170616.0, 20170616.0, 20170623.0, 20170623.0, 20170625.0, 20170614.0, 20170615.0, 20170624.0, 20170820.0, 20170821.0, 20170820.0, 20170820.0, 20170822.0, 20170824.0, 20170824.0, 20170819.0, 20170821.0, 20170820.0, 20170821.0, 20170819.0, 20170823.0, 20170822.0, 20170822.0, 20170822.0, 20170823.0, 20170823.0, 20170828.0, 20170825.0, 20170829.0, 20170826.0, 20170827.0, 20170828.0, 20170827.0, 20170826.0, 20170826.0, 20170820.0, 20170829.0, 20170828.0, 20170826.0, 20170824.0, 20170827.0, 20170920.0, 20170913.0, 20170916.0, 20170913.0, 20170905.0, 20170831.0, 20170829.0, 20170831.0, 20170903.0, 20170904.0, 20170903.0, 20170904.0, 20170904.0, 20170830.0, 20170904.0, 20170913.0, 20170907.0, 20170907.0, 20170911.0, 20170911.0, 20170829.0, 20170829.0, 20170829.0, 20170912.0, 20170921.0, 20170920.0, 20170924.0, 20170921.0, 20170923.0, 20170922.0, 20170924.0, 20170914.0, 20170925.0, 20170925.0, 20170919.0, 20170919.0, 20170922.0, 20170917.0, 20170923.0, 20170922.0, 20170929.0, 20170928.0, 20170927.0, 20170927.0, 20171111.0, 20171110.0, 20171111.0, 20171111.0, 20171111.0, 20171110.0, 20171108.0, 20171105.0, 20171107.0, 20171105.0, 20171106.0, 20171108.0, 20171108.0, 20171103.0, 20171031.0, 20171101.0, 20171101.0, 20171031.0, 20171112.0, 20171031.0, 20171112.0, 20171113.0, 20171113.0, 20171102.0, 20171102.0, 20171104.0, 20171125.0, 20171122.0, 20171120.0, 20171118.0, 20171116.0, 20171119.0, 20171115.0, 20171115.0, 20171118.0, 20171116.0, 20171115.0, 20171116.0, 20171121.0, 20171125.0, 20171125.0, 20171125.0, 20171125.0, 20171126.0, 20171125.0, 20171123.0, 20171123.0, 20171125.0, 20171218.0, 20171218.0, 20171218.0, 20171207.0, 20171207.0, 20171207.0, 20171207.0, 20171207.0, 20171207.0, 20171207.0, 20171208.0, 20171205.0, 20171205.0, 20171204.0, 20171204.0, 20171227.0, 20171226.0, 20171224.0, 20171221.0, 20171227.0, 20171226.0], [5541.0, 5812.0, 9399.0, 5947.0, 5411.0, 5541.0, 5541.0, 5411.0, 5977.0, 5814.0, 5411.0, 6011.0, 9399.0, 9399.0, 5948.0, 5948.0, 5541.0, 9399.0, 6011.0, 9399.0, 5541.0, 5411.0, 5541.0, 5541.0, 5912.0, 6011.0, 5541.0, 5541.0, 5541.0, 7941.0, 5732.0, 5411.0, 5411.0, 5541.0, 6011.0, 6011.0, 5541.0, 5541.0, 5732.0, 5541.0, 5541.0, 5411.0, 5411.0, 5812.0, 5411.0, 4814.0, 5411.0, 5411.0, 5541.0, 5331.0, 5331.0, 5411.0, 5712.0, 5541.0, 5977.0, 5651.0, 5411.0, 5912.0, 7941.0, 5411.0, 9399.0, 5912.0, 9399.0, 5411.0, 5541.0, 5541.0, 5541.0, 5411.0, 5812.0, 5411.0, 5411.0, 5541.0, 4814.0, 5541.0, 5541.0, 5462.0, 5411.0, 5411.0, 5411.0, 5541.0, 5541.0, 5411.0, 5411.0, 5541.0, 5411.0, 9399.0, 5411.0, 5411.0, 5411.0, 5411.0, 5411.0, 5541.0, 5541.0, 5541.0, 5411.0, 9399.0, 5411.0, 6011.0, 9399.0, 9399.0, 9399.0, 8062.0, 5541.0, 5541.0, 5411.0, 9399.0, 5411.0, 5814.0, 5947.0, 5541.0, 4900.0, 9399.0, 9399.0, 5541.0, 5411.0, 6011.0, 5411.0, 5411.0, 5399.0, 5411.0, 5499.0, 9399.0, 5541.0, 5814.0, 5541.0, 5411.0, 5411.0, 6011.0, 6513.0, 5399.0, 5411.0, 5411.0, 5541.0, 5541.0, 5541.0, 9399.0, 6300.0, 5541.0, 4814.0, 5541.0, 4814.0, 5541.0, 9399.0, 5541.0, 5411.0, 5541.0, 5611.0, 5411.0, 5541.0, 5411.0, 9399.0, 5541.0, 7298.0, 7011.0, 9399.0, 9399.0, 5541.0, 9399.0, 5814.0, 5541.0, 5411.0, 4900.0, 5541.0, 5411.0, 5541.0, 5411.0, 5411.0, 5541.0, 6513.0, 5541.0, 5411.0, 5814.0, 5541.0, 5411.0, 5411.0, 5411.0, 5411.0, 5947.0, 5541.0, 5541.0, 9399.0, 4814.0, 7221.0, 5541.0, 5541.0, 5541.0, 9399.0, 5411.0, 5814.0, 5411.0, 5541.0, 4900.0, 9399.0, 5541.0, 5411.0, 5541.0, 9399.0, 9399.0, 5814.0, 5541.0, 8071.0, 5541.0, 9399.0, 5411.0, 5541.0, 5541.0, 9399.0, 5541.0, 5411.0, 5411.0, 5411.0, 5541.0, 5541.0, 5651.0, 5411.0, 5411.0, 5411.0, 5541.0, 5812.0, 5411.0, 9399.0, 5691.0, 5411.0, 9399.0, 5814.0, 5941.0, 5814.0, 5947.0, 5541.0, 5541.0, 5541.0, 5651.0, 5411.0, 8062.0, 9399.0, 5912.0, 5541.0, 5541.0, 5541.0, 5541.0, 9399.0, 5411.0, 5411.0], ['ADNOC MASAKIN S/S-774', 'SKYLERS RESTAURANT', 'AL REAYA SERVICES CENT', 'BAIT AL BADAWIYA GIFTS', 'AL SAFA COMMERCIAL CENTRE', 'ADNOC AL FOHA F/S- 851', 'ADNOC AL HILI S/S- 964', 'LULU HYPERMARKET EFT TERM', 'KARJI PERFUMES EST', 'AL MALLAH CAFETERIA &REST', 'AL SAFA COMM.CNTR-ALN', 'VISA/HILAL BANK Al Hayar', 'AL REAYA SERVICES CENT', 'AL AIN CITY MUN-AL HAI', 'K CORNER LLC', 'K CORNER LLC', 'ADNOC MASAKIN S/S-774', 'DED (ALAIN MAIN BRANCH', 'ADIB ADNOC MSAKIN RES', 'MIN.OF ENV.& CLIMATE AFFA', 'ADNOC AL FOHA F/S- 851', 'LULU HYPERMARKET EFT TERM', 'ADNOC JEEMI S/S - 759', 'ADNOC AL FAQAA F/S- 85', 'AL RODA PHARMACY', 'VISA/HILAL BANK Al Hayar', 'ADNOC AL HILI S/S- 964', 'ADNOC JEEMI S/S - 759', 'ADNOC JEEMI S/S - 759', 'SS SPORTS', 'SHARAF DG LLC', 'CARREFOUR', 'FATHIMA SPMKT LLC -BR', 'ADNOC AL FOHA F/S- 851', 'ADIB ATM-ADNOC QATTARA', 'ADNOC Al Hili (964)', 'ADNOC AL HILI S/S- 964', 'ADNOC AL FOHA F/S- 851', 'SHARAF DG LLC', 'ADNOC AL KARAA F/S 859', 'ADNOC AL FOHA F/S- 851', 'AL SAFA COMM.CNTR-ALN', 'LULU HYPERMARKET EFT TERM', 'HATAM RESTAURANT', 'LULU HYPERMARKET EFT TERM', 'ETISALAT-AL AIN-BARARI', 'AL AIN COOPERATIVE', 'AL AIN COOPERATIVE', 'ADNOC AL HAYER2 S/S-65', 'DAISO(JAPAN)VALUE STORE', 'DAISO(JAPAN)VALUE STORE', 'AL AIN COOPERATIVE', 'AWANI HOUSEWARES-BR 1', 'ADNOC JEEMI S/S - 759', 'MOHD BALHOWAIMIL PERFUMES', 'LOURETAL FASHION', 'AL AIN COOPERATIVE', 'AL RODA PHARMACY', 'SS SPORTS', 'LULU HYPERMARKET EFT TERM', 'NRD-Alheli Port', 'AL AIN PHARMACY (LLC)BRAN', 'MOI-NRD-ALAIN', 'LULU HYPERMARKET EFT TERM', 'ADNOC AL FOHA F/S- 851', 'ADNOC AL FOHA F/S- 851', 'ADNOC NAHEL S/S-658', 'AL SAFA COMM.CNTR-ALN', 'ILFORNO RESTAURANT', 'AL AIN COOPERATIVE', 'LULU HYPERMARKET EFT TERM', 'ADNOC AL HILI S/S- 964', 'DU-AL AIN HILL M.-F09A', 'ADNOC JEEMI S/S - 759', 'ADNOC AL HAYER2 S/S-65', 'AL BARAKA BAKERY', 'AL SAFA COMM.CNTR-ALN', 'FATHIMA SPMKT LLC -BR', 'AL SAFA COMM.CNTR-ALN', 'ADNOC AL HILI S/S- 964', 'ADNOC AL HILI S/S- 964', 'AL AIN COOPERATIVE', 'AL SAFA COMMERCIAL CENTRE', 'ADNOC AL HILI S/S- 964', 'AL SAFA COMMERCIAL CENTRE', 'NRD-AlMuzeef Port', 'LULU HYPERMARKET LLC BR E', 'LULU HYPERMARKET EFT TERM', 'AL AIN FLOWER MARKET LLC', 'AL AIN COOPERATIVE', 'AL AIN COOPERATIVE', 'ADNOC AL HILI S/S- 964', 'ADNOC AL HILI S/S- 964', 'ADNOC NAHEL S/S-658', 'LULU HYPERMARKET EFT TERM', 'DED (ALAIN MAIN BRANCH', 'LULU HYPERMARKET LLC-ECR', 'ADIB-ALAIN MUNICIPALITY', 'AL AIN CITY MUN-CITY C', 'PUBLIC ESTABLISHMENT FOR', 'PUBLIC ESTABLISHMENT FOR', 'ABU DHABI HEALTH SERVICES', 'ADNOC AL FAQAA F/S- 85', 'ADNOC AL FAQAA F/S- 85', 'FATHIMA SPMKT LLC -BR', 'SPHONE TRAFFIC FINES', 'LULU HYPERMARKET EFT TERM', 'PIZZARO LLC-AUH BR 4', 'V BRAND GALLERY', 'ADNOC AL FOHA F/S- 851', 'MAJANCO - AL BURAIMI', 'SPHONE TRAFFIC FINES', 'SPHONE TRAFFIC FINES', 'ADNOC JEEMI S/S - 759', 'LULU HYPERMARKET EFT TERM', 'ADIB ADNOC MSAKIN RES', 'LULU HYPERMARKET EFT TERM', 'AL AIN FLOWER MARKET LLC', 'AL RAHMA MEDICAL CHINE', 'AL SAFA COMMERCIAL CENTRE', 'AL AIN FARMS LIVESTOCK', 'AL AIN CITY MUN-CITY C', 'ADNOC MEZYAD S/S-757', 'IL FORNO UNO', 'ADNOC JEEMI S/S - 759', 'AL AIN COOPERATIVE', 'AL AIN COOPERATIVE', 'ADIB AL AIN LADIES CCDM', 'HILI RAYHAAN BY ROTANA 3C', 'AL RAHMA MEDICAL CHINE', 'AL SAFA COMMERCIAL CENTRE', 'BREEZE OASIS FRUITS&VE', 'ADNOC AL HILI S/S- 964', 'ADNOC NAHEL S/S-658', 'ADNOC JEEMI S/S - 759', 'NRD-Alheli Port', 'ADNIC-AL AIN', 'ADNOC NAHEL S/S-658', 'DU-AL AIN HILL M.-F09A', 'ADNOC AL HILI S/S- 964', 'DU-AL AIN HILL M.-F09A', 'ADNOC AL HILI S/S- 964', 'AL AIN CITY MUN-CITY C', 'ADNOC NAHEL S/S-658', 'FATHIMA SPMKT LLC -BR', 'ADNOC AL HAYER2 S/S-65', 'EMIRAT UNIFORM BRANCH 3', 'LULU HYPERMARKET EFT TERM', 'ADNOC NAHEL S/S-658', 'FATHIMA SPMKT LLC -BR', 'SPHONE TRAFFIC FINES', 'ADNOC NAHEL S/S-658', 'COCOONE BEAUTIFICATION', 'AYLA GRAND HOTEL LLC', 'PASSPORTS DEPT', 'MINISTRY OF COMMERCE &IND', 'ADNOC AL GHAIL S/S-852', 'NRD-Alheli Port', 'LA BRIOCHE-HILII MALL', 'ADNOC NAHEL S/S-658', 'AL SAFA COMMERCIAL CENTRE', 'AL AIN DISTRIBUTION COMPA', 'ADNOC NAHEL S/S-658', 'LULU HYPERMARKET EFT TERM', 'ADNOC AL HILI S/S- 964', 'AL SAFA COMM.CNTR-ALN', 'LULU HYPERMARKET EFT TERM', 'ADNOC JEEMI S/S - 759', 'HILI RAYHAAN BY ROTANA 3C', 'ADNOC AL FOHA F/S- 851', 'LULU HYPERMARKET EFT TERM', 'PIZZARO LLC-AUH BR 4', 'ADNOC AL HAYER2 S/S-65', 'AL MAYA SUPERMARKET', 'AL AIN FLOWER MARKET LLC', 'LULU HYPERMARKET EFT TERM', 'LULU HYPERMARKET EFT TERM', 'BEAUTY GIFTS', 'ADNOC JEEMI S/S - 759', 'ADNOC AL FOHA F/S- 851', 'MINISTRY OF AGRICULTURE', 'DU-AL AIN HILL M.-F09A', 'AL JAZEERA STUDIO', 'ADNOC AL KARAA F/S 859', 'ADNOC AL HAYER2 S/S-65', 'ADNOC AL HILI S/S- 964', 'NRD-Alheli Port', 'LULU HYPERMARKET EFT TERM', 'PIZZARO LLC-AUH BR 4', 'AL MAYA SUPERMARKET', 'ADNOC JEEMI S/S - 759', 'AL AIN DISTRIBUTION COMPA', 'PASSPORTS', 'ADNOC AL MADINAH S/S -', 'AL AIN COOPERATIVE', 'ADNOC JEEMI S/S - 759', 'AL AIN CITY MUN-CITY C', 'MNCPLTY- AlAin', 'AL MALLAH REST N GRILL', 'ADNOC NAHEL S/S-658', 'AL ANDALUS MEDICAL CENTER', 'ADNOC JEEMI S/S - 759', 'Abu Dhabi Judicial Dep', 'FATHIMA SPMKT LLC -BR', 'ADNOC AL FAQAA F/S- 85', 'ADNOC JEEMI S/S - 759', 'NRD-Alheli Port', 'ADNOC NAHEL S/S-658', 'LULU HYPERMARKET EFT TERM', 'LULU HYPERMARKET EFT TERM', 'FATHIMA SPMKT LLC -BR', 'ADNOC AL HAYER2 S/S-65', 'ADNOC JEEMI S/S - 759', 'COMFORT SLEEP SHEETS', 'AL AIN FLOWER MARKET LLC', 'AL AIN COOPERATIVE', 'FATHIMA SPMKT LLC -BR', 'ADNOC JEEMI S/S - 759', 'LITALIANOS RESTAURANT', 'LULU HYPERMARKET EFT TERM', 'AL AIN CITY MUN-AL HAI', 'AL KHEMAR AL RAQI', 'LULU HYPERMARKET EFT TERM', 'AL AIN CITY MUN-CITY C', 'AL MALLAH CAFETERIA', 'SPORTS MARKET LLC', 'KFC OUTLET MALL', 'V BRAND GALLERY', 'ADNOC AL FAQAA F/S- 85', 'ADNOC NAHEL S/S-658', 'ADNOC JEEMI S/S - 759', 'TCHIBO GENERAL TRADING', 'LULU HYPERMARKET EFT TERM', 'ABU DHABI HEALTH SERVICES', 'ADCCI- ALAIN-UAE', 'NATIONAL AL AIN PHARMACY', 'ADNOC AL HILI S/S- 964', 'ADNOC AL HILI S/S- 964', 'ADNOC AL HILI S/S- 964', 'ADNOC JEEMI S/S - 759', 'MOI-NRD-ALAIN', 'AL AIN COOPERATIVE', 'AL AIN CITY CENTRE LLC BR'], [142.01, 214.0, 54.06, 140.0, 404.0, 140.0, 136.0, 88.0, 160.0, 81.0, 86.9, 5000.0, 2078.76, 616.0, 55.0, 55.0, 135.01, 50.0, 8000.0, 68.85, 86.06, 6.0, 133.0, 42.0, 77.0, 2000.0, 1.5, 128.0, 60.0, 129.0, 200.0, 264.0, 64.0, 139.04, 7000.0, 10000.0, 137.0, 133.0, 199.0, 131.95, 49.51, 145.75, 1822.1, 117.0, 44.25, 3633.0, 4.95, 39.15, 24.0, 27.0, 30.0, 106.6, 270.0, 134.05, 1550.0, 1300.0, 70.75, 98.0, 85.0, 25.25, 33.66, 22.0, 921.06, 51.0, 131.05, 109.07, 135.0, 189.4, 39.0, 104.5, 108.2, 141.01, 472.13, 323.0, 97.01, 46.5, 21.15, 175.15, 85.1, 70.02, 134.0, 33.9, 81.55, 124.37, 30.25, 33.66, 73.4, 130.45, 352.5, 69.7, 68.35, 132.02, 50.0, 50.0, 149.35, 4856.0, 40.7, 8000.0, 200.0, 12218.39, 2948.33, 125.0, 45.0, 117.0, 210.6, 3400.0, 62.4, 116.0, 535.0, 90.0, 147.55, 128.0, 153.0, 138.0, 431.7, 4000.0, 329.25, 123.0, 150.0, 349.0, 3266.0, 29988.14, 131.08, 115.0, 127.0, 102.95, 163.3, 1000.0, 30.0, 650.0, 50.75, 120.0, 100.0, 70.0, 50.0, 33.66, 2165.0, 146.0, 349.0, 50.0, 452.0, 50.0, 10050.0, 100.0, 61.65, 128.0, 360.0, 88.0, 100.0, 46.0, 118.0, 115.0, 1500.0, 350.0, 49.13, 3.93, 135.03, 33.66, 109.0, 70.0, 49.5, 2123.94, 70.0, 18.0, 100.0, 45.75, 364.45, 100.0, 35.0, 100.0, 518.4, 142.0, 135.01, 111.1, 15.0, 315.2, 131.0, 70.0, 142.02, 50.0, 118.2, 983.0, 50.0, 126.07, 138.01, 129.04, 33.66, 1950.2, 120.0, 105.0, 146.0, 7200.0, 49.24, 147.82, 165.5, 146.02, 29988.14, 783.36, 116.0, 138.0, 2700.0, 135.0, 500.0, 43.23, 18.5, 140.03, 64.26, 120.0, 843.0, 395.95, 20.12, 135.0, 105.0, 350.0, 380.0, 10.95, 76.9, 142.02, 151.0, 362.65, 6.05, 440.0, 222.95, 250.0, 48.0, 99.0, 44.0, 820.0, 10.0, 123.01, 158.18, 169.0, 194.0, 125.0, 80.0, 75.0, 143.75, 128.0, 150.0, 100.0, 54.06, 120.5, 76.2], [-142.01, -214.0, -54.06, -140.0, -404.0, -140.0, -136.0, -88.0, -160.0, -81.0, -86.9, -5000.0, -2078.76, -616.0, -55.0, -55.0, -135.01, -50.0, -8000.0, -68.85, -86.06, -6.0, -133.0, -42.0, -77.0, -2000.0, -1.5, -128.0, -60.0, -129.0, -200.0, -264.0, -64.0, -139.04, -7000.0, -10000.0, -137.0, -133.0, -199.0, -131.95, -49.51, -145.75, -1822.1, -117.0, -44.25, -3633.0, -4.95, -39.15, -24.0, -27.0, -30.0, -106.6, -270.0, -134.05, -1550.0, -1300.0, -70.75, -98.0, -85.0, -25.25, -33.66, -22.0, -921.06, -51.0, -131.05, -109.07, -135.0, -189.4, -39.0, -104.5, -108.2, -141.01, -472.13, -323.0, -97.01, -46.5, -21.15, -175.15, -85.1, -70.02, -134.0, -33.9, -81.55, -124.37, -30.25, -33.66, -73.4, -130.45, -352.5, -69.7, -68.35, -132.02, -50.0, -50.0, -149.35, -4856.0, -40.7, -8000.0, -200.0, -12218.39, -2948.33, -125.0, -45.0, -117.0, -210.6, -3400.0, -62.4, -116.0, -535.0, -90.0, -147.55, -128.0, -153.0, -138.0, -431.7, -4000.0, -329.25, -123.0, -150.0, -349.0, -3266.0, -29988.14, -131.08, -115.0, -127.0, -102.95, -163.3, -1000.0, -30.0, -650.0, -50.75, -120.0, -100.0, -70.0, -50.0, -33.66, -2165.0, -146.0, -349.0, -50.0, -452.0, -50.0, -10050.0, -100.0, -61.65, -128.0, -360.0, -88.0, -100.0, -46.0, -118.0, -115.0, -1500.0, -350.0, -49.13, -3.93, -135.03, -33.66, -109.0, -70.0, -49.5, -2123.94, -70.0, -18.0, -100.0, -45.75, -364.45, -100.0, -35.0, -100.0, -518.4, -142.0, -135.01, -111.1, -15.0, -315.2, -131.0, -70.0, -142.02, -50.0, -118.2, -983.0, -50.0, -126.07, -138.01, -129.04, -33.66, -1950.2, -120.0, -105.0, -146.0, -7200.0, -49.24, -147.82, -165.5, -146.02, -29988.14, -783.36, -116.0, -138.0, -2700.0, -135.0, -500.0, -43.23, -18.5, -140.03, -64.26, -120.0, -843.0, -395.95, -20.12, -135.0, -105.0, -350.0, -380.0, -10.95, -76.9, -142.02, -151.0, -362.65, -6.05, -440.0, -222.95, -250.0, -48.0, -99.0, -44.0, -820.0, -10.0, -123.01, -158.18, -169.0, -194.0, -125.0, -80.0, -75.0, -143.75, -128.0, -150.0, -100.0, -54.06, -120.5, -76.2]])\n",
      "('1000903', [[7], ['30K+ Income'], [15000.0], [20170605.0, 20170611.0, 20170611.0, 20170611.0, 20170610.0, 20170610.0, 20170610.0, 20170609.0, 20170531.0, 20170614.0, 20170614.0, 20170613.0, 20170604.0, 20170601.0, 20170604.0, 20170601.0, 20170602.0, 20170625.0, 20170624.0, 20170616.0, 20170624.0, 20170615.0, 20170616.0, 20170616.0, 20170614.0, 20170717.0, 20170720.0, 20170722.0, 20170715.0, 20170709.0, 20170712.0, 20170713.0, 20170704.0, 20170705.0, 20170705.0, 20170705.0, 20170707.0, 20170707.0, 20170706.0, 20170706.0, 20170706.0, 20170706.0, 20170706.0, 20170710.0, 20170714.0, 20170715.0, 20170714.0, 20170723.0, 20170719.0, 20170715.0, 20170715.0], [5814.0, 5441.0, 5912.0, 5541.0, 5912.0, 5814.0, 7230.0, 5812.0, 5977.0, 5814.0, 5814.0, 5812.0, 7230.0, 3512.0, 5411.0, 5947.0, 3512.0, 5814.0, 7298.0, 5541.0, 5814.0, 5814.0, 5732.0, 7230.0, 5814.0, 6513.0, 5814.0, 9399.0, 5541.0, 5411.0, 5541.0, 7230.0, 5814.0, 5912.0, 7230.0, 5812.0, 5699.0, 5699.0, 5812.0, 5812.0, 5812.0, 5812.0, 5411.0, 3543.0, 5814.0, 5814.0, 5812.0, 5814.0, 5814.0, 5912.0, 7997.0], ['DOSE NEVER OVER DOSE CAFE', 'TEUSCHER CHOCOLATES', 'ALMANARA ALRAEDA PHARM', 'ADNOC KHALIFA CITY', 'SKY COMMUNITY PHARMACY', 'D639-STARBUCKS-DAREEN', 'AZIZ SALON - BRANCH 5', 'ESPRESSION - LAVAZZA', 'ABDULSAMA ALQURSHI CO', 'DOSE NEVER OVER DOSE CAFE', 'COSTA COFFEE', 'FIFTY SEVEN RESTAURANT LL', 'AZIZ SALON - BRANCH 5', 'INTERCONTINENTAL HOTEL DA', 'WAITROSE SUN AND SKY', 'REEM FOR GIFT', 'INTERCONTINENTAL HOTEL DA', 'PARKERS RESTAURANT LLC', \"VINTAGE MEN'S SPA\", 'ADNOC ZAFARANA S/S-973', 'MIRAQE GENERAL TRADING LL', 'APTITUDE CAFE', 'FOCUS ELECTRONICS TR', 'AZIZ SALON - BRANCH 5', 'APTITUDE CAFE', 'ROSEWOOD HOTEL ABU DHABI', 'MCDONALDS-ADNOC MUSHRI', 'MOI TRAFFIC FINES', 'ADNOC ZAFARANA S/S-973', 'ALENKA  SHOP', 'ADNOC ZAFARANA S/S-973', 'AZIZ SALON - BRANCH 5', 'YELLOW TRAM CAFE AND REST', 'SKY COMMUNITY PHARMACY', 'AZIZ SALON - BRANCH 5', 'ESPRESSION - LAVAZZA', 'TSUM', 'TSUM', 'RYBY NET', 'BOSCO CAFE', 'AUTOGRILL MIDDLE EAST LLC', 'TUALET NA ILINKE', 'ABU DHABI DUTY FREE-FOOD', 'FOUR SEASONS MOSCOW HOTEL', 'MCDONALDS-54085', 'IL CAFFEDI ROMA', 'FIFTY SEVEN RESTAURANT LL', 'MCDONALDS-ADNOC MUSHRI', 'IL CAFFEDI ROMA', 'AL AHLIA PHARMACY', 'COMMANDER  FITNESS CENTER'], [145.0, 176.0, 16.5, 135.02, 134.0, 27.0, 60.0, 205.0, 666.01, 82.0, 86.0, 88.2, 60.0, 171.54, 45.5, 605.46, 338.03, 95.0, 630.0, 21.0, 14.0, 156.0, 850.0, 60.0, 50.0, 723.6, 22.0, 4920.0, 64.75, 126.1, 97.05, 60.0, 64.0, 182.0, 140.0, 32.0, 1113.4, 601.58, 573.78, 173.34, 14.0, 1.9, 20.0, 1184.35, 25.0, 99.05, 51.3, 25.0, 164.65, 32.0, 560.0], [-145.0, -176.0, -16.5, -135.02, -134.0, -27.0, -60.0, -205.0, -666.01, -82.0, -86.0, -88.2, -60.0, -171.54, -45.5, -605.46, -338.03, -95.0, -630.0, -21.0, -14.0, -156.0, -850.0, -60.0, -50.0, -723.6, -22.0, -4920.0, -64.75, -126.1, -97.05, -60.0, -64.0, -182.0, -140.0, -32.0, -1113.4, -601.58, -573.78, -173.34, -14.0, -1.9, -20.0, -1184.35, -25.0, -99.05, -51.3, -25.0, -164.65, -32.0, -560.0]])\n",
      "('1000916', [[12], ['30K+ Income'], [5000.0], [20171124.0, 20171126.0, 20171107.0, 20171125.0, 20171125.0, 20171124.0, 20171129.0, 20171230.0], [5999.0, 5411.0, 9399.0, 5943.0, 5411.0, 5411.0, 7011.0, 5541.0], ['VCOAT GENERAL TRADING LLC', 'ARMED FORCES COOP', 'MOI TRAFFIC FINES', 'AL HARAMAIN BOOKSHOP', 'LULU EXPRESS FRESH MARKET', 'LULU HYPERMARKET LLC BR-E', 'MOUNTAGA EWAN GEN (EWA', 'ADNOC DISTRIBUTION'], [280.0, 819.3, 550.0, 148.0, 267.05, 850.6, 2395.44, 2000.0], [-280.0, -819.3, -550.0, -148.0, -267.05, -850.6, -2395.44, -2000.0]])\n",
      "('1000924', [[5], ['30K+ Income'], [30000.0], [20170329.0, 20170404.0, 20170404.0, 20170402.0, 20170406.0, 20170405.0, 20170330.0, 20170406.0, 20170408.0, 20170402.0, 20170402.0, 20170402.0, 20170405.0, 20170405.0, 20170405.0, 20170401.0, 20170407.0, 20170407.0, 20170423.0, 20170428.0, 20170422.0, 20170514.0, 20170514.0, 20170517.0, 20170525.0, 20170517.0, 20170525.0, 20170528.0, 20170521.0, 20170521.0, 20170518.0, 20170520.0, 20170522.0, 20170523.0, 20170524.0, 20170513.0, 20170511.0, 20170511.0, 20170510.0, 20170509.0, 20170506.0, 20170507.0, 20170507.0, 20170507.0, 20170504.0, 20170503.0, 20170502.0, 20170504.0, 20170503.0, 20170504.0, 20170503.0, 20170502.0, 20170506.0, 20170503.0, 20170506.0, 20170507.0, 20170504.0, 20170506.0, 20170506.0, 20170429.0, 20170430.0, 20170527.0, 20170516.0, 20170516.0, 20170518.0, 20170529.0, 20170527.0, 20170519.0, 20170519.0, 20170517.0, 20170517.0, 20170517.0, 20170520.0, 20170523.0, 20170523.0, 20170520.0, 20170523.0, 20170525.0, 20170529.0, 20170527.0, 20170527.0, 20170520.0, 20170520.0, 20170520.0, 20170518.0, 20170521.0], [8351.0, 5462.0, 7298.0, 5814.0, 5541.0, 5655.0, 5814.0, 5814.0, 5411.0, 5411.0, 5812.0, 4900.0, 7832.0, 5814.0, 5814.0, 5541.0, 4812.0, 4812.0, 5411.0, 7011.0, 5311.0, 5697.0, 5814.0, 5691.0, 5814.0, 5499.0, 5812.0, 5411.0, 5814.0, 5814.0, 5814.0, 5541.0, 7941.0, 5912.0, 5651.0, 5541.0, 5814.0, 5814.0, 5651.0, 5541.0, 5411.0, 5651.0, 5411.0, 7832.0, 5814.0, 5977.0, 5999.0, 5309.0, 5912.0, 4812.0, 5912.0, 5691.0, 5541.0, 5691.0, 5814.0, 5814.0, 4121.0, 5814.0, 5814.0, 5691.0, 5944.0, 4812.0, 5541.0, 7230.0, 5814.0, 5814.0, 5411.0, 7011.0, 5814.0, 5814.0, 5651.0, 5651.0, 5812.0, 5912.0, 5814.0, 7011.0, 5411.0, 5814.0, 5541.0, 4814.0, 4814.0, 5411.0, 7994.0, 7994.0, 5814.0, 5462.0], ['KIDOOS ENTERTAINMENT B', 'HOME BAKERY LLC', 'SALOON AL AFIYA', 'BURGER KITCHEN', 'ADNOC TAIBA S/S-656', 'EXTREME WATER SPORTS', 'OPERATION FALAFEL-LAST EX', 'D626 STARBUCKS-DAREEN', 'SPINNEYS ABU DHABI-BR1', 'AL SAFEER MARKET LLC.FUJA', 'BATEEL RESTAURANT BATEEL', 'ADPC MINA ZAYED SECUTI', 'VOX CINEMAS', 'DAREEN INTL STARBUCKS CC', 'HILI COFFEE HOUSE LLC', 'ADNOC JAMYAT ALSAYADIN', 'Etisalat - Fujairah #2', 'Etisalat - Fujairah #2', 'SAFA EXPRESS SPMKT-BR', 'HOLIDAY INN SALZBURG', 'GALERIES LAFAYETTE HAU', 'AL WAJAHA GENTS TAILORING', 'SAMAD IRAQI REST.', 'MANGO', 'KABABU', 'EDIBLE ARRANGEMENTS AED', 'THE HOT DOG STAND RESTAUR', 'AL SAFEER HYPERMARKET', 'BURGER KITCHEN', 'IL CAFE DE ROMA', 'D569-STARBUCKS DAREEN', 'EMARAT-CHICAGO BEACH(2060', 'ARENA & GYM FITNESS LL', 'ABU SHARIA PHARMACY LL', 'CHILDRENSALON', 'ADNOC KALBA S/S-784', 'KABABU', 'AWANI', 'CHILDRENSALON', 'ADNOC KHALIFA CITY', 'SPINNEYS-AL FORSAN', 'H&M', 'GEANT EASY-BR OF FUCOM', 'MAJID AL FUTTAIM CINEMAS', 'COSTA COFFEE', 'ORGANIC LUXURY', 'FUNFACTORY GMBH', 'DUBAI DUTY FREE- T3 ARV', 'Internat. HBF Apotheke', 'ALLO KALBA MOBILES BR', 'PARFUEMERIE DOUGLAS', 'H&M MUENCHEN 1DE0067', 'ADNOC JAMYAT ALSAYADIN', 'LUDWIG BECK', 'MCDONALDS-ENOC 1092', 'ILLY ESPRESSAMENTE', 'DTC - VIP LIMOUSINE', 'D626 STARBUCKS-DAREEN', 'PAPA MURPHYS PIZZA RESTAU', 'PRADA S041', 'MAZZOLARI', 'ALLO KALBA MOBILES BR', 'ADNOC JAMYAT ALSAYADIN', 'SMART CUTS GENTS SALON LL', 'AL SAYER RETAIL ESTABLISH', 'D626 STARBUCKS-DAREEN', 'SHARJAH CO-OP. KALBA', 'MADINAT JUMEIRAH-AL NASEE', 'D569-STARBUCKS DAREEN', 'D569-STARBUCKS DAREEN', 'H&M', 'H&M', 'KHANEEN RESTAURANT', 'BOOTS CC -4257', 'DAREEN INT STARBUCK 4024', 'MADINAT JUMEIRAH-3C F/O', 'SAFA EXPRESS SUPERMARKET', 'D3871-STARBUCKS-TRUCK', 'ADNOC JAMYAT ALSAYADIN', 'Etisalat - Fujairah #2', 'Etisalat - Fujairah #2', 'GEANT EASY-BR OF FUCOM', 'FUN CITY OASIS LLC', 'FUN CITY OASIS LLC', 'THE SHACK SEAFOOD REST', 'HOME BAKERY LLC'], [360.0, 60.0, 260.0, 25.0, 218.0, 540.0, 94.0, 48.0, 727.9, 515.2, 73.0, 100.0, 577.0, 52.0, 56.0, 205.0, 511.1, 748.0, 673.1, 1915.91, 1359.44, 300.0, 300.0, 158.0, 85.0, 345.0, 60.0, 447.09, 60.0, 22.0, 54.0, 235.0, 350.0, 160.0, 98.49, 217.0, 35.0, 74.0, 4462.98, 207.04, 373.75, 208.0, 210.85, 113.0, 76.0, 393.15, 40.96, 292.0, 302.11, 800.0, 386.95, 115.77, 121.03, 1799.55, 13.0, 40.0, 481.5, 64.0, 22.0, 632.94, 1655.02, 100.0, 200.01, 210.0, 50.0, 61.0, 344.75, 590.0, 127.0, 24.0, 59.0, 279.0, 162.0, 58.0, 50.0, 35.0, 162.55, 114.0, 185.03, 624.0, 1169.96, 767.69, 100.0, 100.0, 165.0, 85.0], [-360.0, -60.0, -260.0, -25.0, -218.0, -540.0, -94.0, -48.0, -727.9, -515.2, -73.0, -100.0, -577.0, -52.0, -56.0, -205.0, -511.1, -748.0, -673.1, -1915.91, -1359.44, -300.0, -300.0, -158.0, -85.0, -345.0, -60.0, -447.09, -60.0, -22.0, -54.0, -235.0, -350.0, -160.0, -98.49, -217.0, -35.0, -74.0, -4462.98, -207.04, -373.75, -208.0, -210.85, -113.0, -76.0, -393.15, -40.96, -292.0, -302.11, -800.0, -386.95, -115.77, -121.03, -1799.55, -13.0, -40.0, -481.5, -64.0, -22.0, -632.94, -1655.02, -100.0, -200.01, -210.0, -50.0, -61.0, -344.75, -590.0, -127.0, -24.0, -59.0, -279.0, -162.0, -58.0, -50.0, -35.0, -162.55, -114.0, -185.03, -624.0, -1169.96, -767.69, -100.0, -100.0, -165.0, -85.0]])\n",
      "('1001010', [[4, 8, 10], ['14K - 30K  income', '14K - 30K  income', '14K - 30K  income'], [15000.0, 15000.0, 15000.0], [20170327.0, 20170320.0, 20170323.0, 20170320.0, 20170314.0, 20170328.0, 20170322.0, 20170321.0, 20170323.0, 20170318.0, 20170318.0, 20170314.0, 20170315.0, 20170325.0, 20170320.0, 20170328.0, 20170322.0, 20170327.0, 20170329.0, 20170312.0, 20170227.0, 20170227.0, 20170227.0, 20170227.0, 20170227.0, 20170227.0, 20170228.0, 20170228.0, 20170228.0, 20170228.0, 20170227.0, 20170228.0, 20170305.0, 20170307.0, 20170307.0, 20170305.0, 20170306.0, 20170304.0, 20170304.0, 20170304.0, 20170302.0, 20170302.0, 20170303.0, 20170302.0, 20170302.0, 20170303.0, 20170302.0, 20170302.0, 20170301.0, 20170228.0, 20170301.0, 20170301.0, 20170309.0, 20170308.0, 20170309.0, 20170308.0, 20170309.0, 20170310.0, 20170311.0, 20170311.0, 20170310.0, 20170313.0, 20170313.0, 20170312.0, 20170312.0, 20170318.0, 20170322.0, 20170321.0, 20170318.0, 20170315.0, 20170327.0, 20170317.0, 20170317.0, 20170316.0, 20170316.0, 20170322.0, 20170328.0, 20170324.0, 20170327.0, 20170323.0, 20170325.0, 20170321.0, 20170314.0, 20170324.0, 20170316.0, 20170320.0, 20170316.0, 20170324.0, 20170315.0, 20170319.0, 20170319.0, 20170317.0, 20170319.0, 20170424.0, 20170424.0, 20170416.0, 20170329.0, 20170330.0, 20170329.0, 20170329.0, 20170329.0, 20170330.0, 20170407.0, 20170406.0, 20170409.0, 20170409.0, 20170410.0, 20170409.0, 20170410.0, 20170411.0, 20170411.0, 20170412.0, 20170412.0, 20170412.0, 20170412.0, 20170412.0, 20170416.0, 20170420.0, 20170425.0, 20170420.0, 20170429.0, 20170428.0, 20170428.0, 20170427.0, 20170715.0, 20170717.0, 20170717.0, 20170715.0, 20170716.0, 20170715.0, 20170723.0, 20170719.0, 20170724.0, 20170718.0, 20170716.0, 20170725.0, 20170913.0, 20170911.0, 20170829.0, 20170829.0, 20170927.0, 20170926.0, 20170927.0, 20170927.0, 20170928.0, 20170928.0, 20170927.0, 20170926.0, 20171019.0, 20171019.0, 20171002.0, 20171002.0, 20171002.0, 20171001.0, 20171001.0, 20171002.0, 20171002.0, 20171010.0, 20171010.0, 20171006.0, 20171008.0, 20171006.0, 20171008.0, 20171008.0, 20171006.0, 20171004.0, 20171003.0, 20171004.0, 20171005.0, 20171011.0, 20171013.0, 20171013.0, 20171008.0, 20171020.0, 20171020.0, 20171020.0], [7996.0, 5812.0, 5814.0, 5977.0, 5541.0, 5541.0, 5541.0, 5814.0, 5541.0, 7542.0, 7542.0, 5814.0, 5541.0, 5814.0, 7999.0, 8675.0, 4812.0, 5541.0, 5812.0, 9399.0, 5541.0, 9399.0, 9399.0, 5735.0, 5814.0, 5533.0, 5411.0, 9399.0, 5814.0, 9399.0, 4812.0, 9399.0, 9399.0, 5499.0, 5814.0, 9399.0, 5814.0, 5541.0, 7832.0, 5812.0, 5311.0, 5812.0, 5661.0, 9399.0, 5541.0, 5814.0, 5977.0, 5814.0, 5912.0, 9399.0, 5541.0, 5541.0, 7941.0, 5814.0, 5541.0, 5541.0, 5541.0, 5814.0, 5541.0, 7832.0, 7941.0, 5814.0, 5541.0, 5541.0, 5541.0, 7996.0, 5462.0, 5541.0, 5941.0, 5814.0, 5541.0, 5541.0, 5541.0, 5541.0, 5541.0, 7011.0, 5533.0, 5814.0, 5814.0, 5814.0, 5541.0, 5541.0, 5814.0, 5541.0, 5941.0, 5541.0, 5735.0, 5944.0, 5941.0, 7392.0, 7392.0, 5941.0, 9399.0, 5814.0, 5541.0, 5541.0, 5541.0, 5541.0, 5814.0, 5814.0, 5533.0, 5814.0, 5541.0, 5541.0, 5814.0, 5541.0, 5814.0, 5411.0, 5944.0, 5541.0, 5541.0, 5541.0, 5541.0, 5814.0, 5814.0, 5462.0, 7832.0, 5735.0, 5814.0, 5541.0, 5541.0, 5814.0, 5812.0, 5541.0, 5814.0, 5541.0, 5814.0, 7922.0, 7832.0, 5944.0, 5411.0, 5541.0, 5541.0, 5944.0, 5735.0, 5651.0, 5977.0, 5944.0, 5944.0, 5944.0, 5912.0, 7832.0, 5541.0, 5944.0, 5541.0, 5541.0, 5697.0, 5541.0, 5541.0, 5814.0, 5814.0, 5541.0, 5411.0, 5812.0, 5541.0, 5541.0, 5541.0, 5814.0, 5541.0, 5541.0, 5814.0, 5814.0, 5541.0, 5541.0, 5812.0, 5814.0, 5411.0, 5541.0, 5814.0, 5541.0, 5812.0, 5541.0, 5814.0, 5812.0, 5814.0, 5541.0], ['GLOBAL VILLAGE-DUBAI L', 'PAUL CAFE KAREEM TRADING', 'SAUDIAN KITCHEN-AUH', 'ALAL AL ZAIN COSMETICS', 'ADNOC IND.AREA S/S-942', 'EMARAT-RAED(5341)C/STORE', 'EMARAT-RAED(5341)C/STORE', 'CRAVIA INC LLC BRANCH OF', 'ADNOC MASAKIN S/S-774', 'HAFEET GRAND CAR WASH', 'HAFEET GRAND CAR WASH', 'HORIZON CAFE MIDDLE EAST', 'ADNOC AL QARAM S/S-699', 'THE BAGEL BAR COFFEE HOUS', 'SMART QUESTS DMCC', 'AL SAYEGH AUTOMOTIVE', 'Etisalat - Al Ain #2', 'ADNOC AL BATEEN S/S-75', 'SADAF RESTAURANT BR 1', 'Al AIN LICENSING (253)', 'ADNOC AL FAYA S/S-891', 'AD POLICE-HQ FINES-101', 'AD POLICE-HQ FINES-101', 'ITUNES.COM/BILL', 'THE SHACK SEAFOOD REST', 'HALAQAT AL WASEL-alain', 'CARREFOUR', 'ADJD-AL AIN COURTS23', 'HILI COFFEE HOUSE LLC', 'ADJD-AL AIN COURTS16', 'Etisalat Telecom Corp', 'ADJD-REG-AIN-ALA', 'Abu Dhabi Police', 'AL KHAJA STORES', 'CRAVIA INC LLC AL AIN BRA', 'Abu Dhabi Police', 'SAUDIAN KITCHEN-AUH', 'EMARAT - RAED (5341)', 'OSCAR CINEMA ALFOAH MALL', 'IL CAFFE DI ROMA LA VAZZA', 'GALERIES LAFAYETTE', 'IL CAFFE DI ROMA LA VAZZA', 'CAVALLO COLLECTION', 'AJM POLICE-LIC DPT MAI', 'ADNOC MASAKIN S/S-774', 'CRAVINGS SOCIAL', 'ATYAB AL MARSHOUD PERFUME', 'SAUDIAN KITCHEN-AUH', 'BOOTS TAWAM PHARMACY-3858', 'PLATINUM MEDIA EVENTS', 'ADNOC AL BATEEN S/S-75', 'ADNOC AL BATEEN S/S-75', 'PREMIER ONLINE', 'HILI COFFEE HOUSE LLC', 'ADNOC Saih Bin Ammar F', 'ADNOC REMA S/S 947', 'ADNOC AL BATEEN S/S-75', 'AL SAMADI REST.', 'ADNOC AL KARAA F/S 859', 'OSCAR CINEMA ALFOAH MALL', 'PREMIER ONLINE', 'CRAVIA INC LLC AL AIN BRA', 'ADNOC REMA S/S 947', 'ADNOC IND.AREA S/S-942', 'ADNOC AL HAFFAR S/S-67', 'WADI ADVENTURES LLC', 'HOME BAKERY LLC', 'ADNOC AL BATEEN S/S-75', 'MY.TRUMIN.COM/PAYMENT', 'VAP HOSPITALITY LLC SHJ B', 'ADNOC AL BATEEN S/S-75', 'ADNOC ABU AL ABYAD S/', 'ADNOC ABU AL ABYAD S/', 'ADNOC ABU AL ABYAD S/S', 'ADNOC ABU AL ABYAD S/S', 'MADINAT JUMEIRAH - MJ RES', 'MODEL AUTO PARTS', 'SAUDIAN KITCHEN-AUH', 'HORIZON CAFE MIDDLE EAST', 'FRENCH COUNTRY SIDE672', 'ADNOC AL BATEEN S/S-75', 'ADNOC AL FAYA S/S-891', 'FRENCH COUNTRY SIDE672', 'ADNOC AL TALLA S/S-797', 'MY.TRUMIN.COM/PAYMENT', 'ADNOC MASAKIN S/S-774', 'ITUNES.COM/BILL', 'AL MANA RETAIL LLC', 'MY.TRUMIN.COM/PAYMENT', 'ATH-XDUBAI-SPARTAN-RAC', 'ATH-XDUBAI-SPARTAN-RAC', 'MY.TRUMIN.COM/PAYMENT', 'Al AIN LICENSING (253)', 'CRAVIA INC LLC AL AIN BRA', 'ADNOC AL MUWAIJI S/S 9', 'ADNOC AL BATEEN S/S-75', 'ADNOC IND.AREA S/S-942', 'ADNOC AL MUWAIJI S/S 9', 'CRAVIA INC LLC AL AIN BRA', 'DAREEN INTL STARBUCKS3829', 'HALAQAT AL WASEL-alain', 'SAUDIAN KITCHEN-AUH', 'ADNOC MASAKIN S/S-774', 'ADNOC MASAKIN S/S-774', 'GOLDEN SHEEP RESTAURANT', 'ADNOC Saih Bin Ammar F', 'KOSHARI FACTORY', 'KM HYPER MARKET LLC-AL AI', 'CARTIER', 'ADNOC AL FAYA S/S-891', 'ADNOC AL KHATEM S/S-97', 'EPPCO SITE 50', 'ADNOC AL FAYA S/S-891', 'OISHI RESTAURANT CAFE', 'NAJD PALACE RESTAURANT', 'HOME BAKERY LLC', 'MAJID AL FUTTAIM CINEMAS', 'ITUNES.COM/BILL', 'STARBUCKS CC4145 DAREEN', 'ADNOC AL BATEEN S/S-75', 'EPPCO SITE 48', 'LETO CAFE AND RESTAURANT', 'RUE 71 PATISSERIE AND TEA', 'ADNOC AL MAQAM S/S- 86', 'GELATO DIVINO', 'ADNOC MASAKIN S/S-774', 'MADFOON ALSADDA REST.', 'AQUARIUM', 'AL NISR CINEMA FILM LLC', 'RICHEMONT CARTIER BTQ', 'AL AIN COOPERATIVE', 'ADNOC AL HAFFAR S/S-67', 'EMARAT - MADARES (6311)', 'MOHD RASOOL KHOORY & SONS', 'ITUNES.COM/BILL', 'APPAREL R AND B BOM', 'CULTBEAUTY', 'SALEM AL SHOEIBI JEWEL', 'CARTIER', 'CARTIER', 'AL BISHARAH PHARMACY L', 'OSCAR CINEMA ALFOAH MALL', 'ADNOC AL BATEEN S/S-75', 'ALFUTTAIM WATCHES96-MA', 'ADNOC REMA S/S 947', 'ADNOC ABU AL ABYAD S/S', 'GHANATI TAILORING W/SH', 'ADNOC AL BATEEN S/S-75', 'ADNOC AL BATEEN S/S-75', 'DAREEN INTL STARBUCKS3829', 'GREEN VALLEY PALACE REST', 'ADNOC REMA S/S 947', 'AL AIN CITY CENTRE', 'RUE 71 PATISSERIE AND TEA', 'ADNOC MASAKIN S/S-774', 'ADNOC REMA S/S 947', 'ADNOC AL SAAD F/S- 854', 'BURGER WINGS CAFETERIA', 'ADNOC AL MAQAM S/S- 86', 'ADNOC MASAKIN S/S-774', 'BURGER WINGS CAFETERIA', 'THIRD AVENUE CAFE LLC', 'ADNOC AL FAYA S/S-891', 'ADNOC AL BATEEN S/S-75', 'RUE 71 PATISSERIE AND TEA', 'MCDONALDS-54081', 'AL AIN COOPERATIVE', 'ADNOC AL FAQAA F/S- 85', 'WARESH CAFE LLC', 'ADNOC AL HAFFAR S/S-67', 'RUE 71 PATISSERIE AND TEA', 'ADNOC MASAKIN S/S-774', 'CRAVIA INC LLC ALAIN BRAN', 'KISH RESTAURANT LLC', 'FRENCH SPIRIT COFFEE S', 'EPPCO SITE 48'], [135.0, 24.0, 30.0, 655.0, 100.0, 9.5, 100.0, 24.0, 100.0, 35.0, 20.0, 32.0, 175.01, 24.0, 460.0, 260.0, 450.0, 100.0, 94.0, 100.0, 167.02, 34750.0, 1000.0, 10.99, 207.0, 90.0, 100.0, 50.0, 44.0, 10.0, 260.0, 10000.0, 8878.0, 40.0, 14.0, 118.0, 66.0, 155.0, 30.0, 48.0, 675.0, 36.0, 800.0, 800.0, 180.0, 154.0, 335.0, 89.0, 29.0, 50.0, 8.0, 30.0, 1100.0, 44.0, 171.0, 100.0, 2.0, 266.0, 50.0, 58.0, 275.0, 14.0, 100.0, 100.0, 30.5, 35.0, 185.0, 4.0, 404.84, 148.0, 4.25, 15.0, 150.0, 8.5, 150.02, 823.5, 465.0, 49.0, 37.0, 37.5, 50.0, 100.0, 38.25, 30.0, 404.84, 155.01, 10.99, 2755.0, 404.84, 275.94, 275.94, 404.84, 100.0, 14.0, 7.0, 158.62, 50.0, 160.0, 14.0, 17.0, 230.0, 32.0, 100.0, 100.0, 44.0, 120.0, 33.0, 52.0, 1710.0, 100.0, 50.0, 149.11, 50.0, 61.0, 157.0, 35.0, 205.0, 10.99, 17.0, 137.01, 100.0, 39.0, 115.0, 180.0, 18.0, 170.01, 92.0, 210.0, 13.0, 25800.0, 14.95, 100.0, 160.0, 29900.0, 10.99, 18.0, 551.51, 4100.0, 15600.0, 20000.0, 51.0, 60.0, 172.01, 1825.0, 120.01, 26.0, 2000.0, 50.0, 100.0, 15.0, 58.0, 50.0, 41.65, 162.0, 115.0, 180.03, 50.0, 67.0, 80.0, 100.0, 35.0, 331.0, 100.0, 100.0, 60.0, 22.0, 36.0, 100.0, 193.0, 100.0, 144.0, 197.01, 11.0, 87.0, 187.0, 100.0], [-135.0, -24.0, -30.0, -655.0, -100.0, -9.5, -100.0, -24.0, -100.0, -35.0, -20.0, -32.0, -175.01, -24.0, -460.0, -260.0, -450.0, -100.0, -94.0, -100.0, -167.02, -34750.0, -1000.0, -10.99, -207.0, -90.0, -100.0, -50.0, -44.0, -10.0, -260.0, -10000.0, -8878.0, -40.0, -14.0, -118.0, -66.0, -155.0, -30.0, -48.0, -675.0, -36.0, -800.0, -800.0, -180.0, -154.0, -335.0, -89.0, -29.0, -50.0, -8.0, -30.0, -1100.0, -44.0, -171.0, -100.0, -2.0, -266.0, -50.0, -58.0, -275.0, -14.0, -100.0, -100.0, -30.5, -35.0, -185.0, -4.0, -404.84, -148.0, -4.25, -15.0, -150.0, -8.5, -150.02, -823.5, -465.0, -49.0, -37.0, -37.5, -50.0, -100.0, -38.25, -30.0, -404.84, -155.01, -10.99, -2755.0, -404.84, -275.94, -275.94, -404.84, -100.0, -14.0, -7.0, -158.62, -50.0, -160.0, -14.0, -17.0, -230.0, -32.0, -100.0, -100.0, -44.0, -120.0, -33.0, -52.0, -1710.0, -100.0, -50.0, -149.11, -50.0, -61.0, -157.0, -35.0, -205.0, -10.99, -17.0, -137.01, -100.0, -39.0, -115.0, -180.0, -18.0, -170.01, -92.0, -210.0, -13.0, -25800.0, -14.95, -100.0, -160.0, -29900.0, -10.99, -18.0, -551.51, -4100.0, -15600.0, -20000.0, -51.0, -60.0, -172.01, -1825.0, -120.01, -26.0, -2000.0, -50.0, -100.0, -15.0, -58.0, -50.0, -41.65, -162.0, -115.0, -180.03, -50.0, -67.0, -80.0, -100.0, -35.0, -331.0, -100.0, -100.0, -60.0, -22.0, -36.0, -100.0, -193.0, -100.0, -144.0, -197.01, -11.0, -87.0, -187.0, -100.0]])\n",
      "('1001020', [[6], ['30K+ Income'], [45000.0], [20170513.0, 20170517.0, 20170523.0, 20170522.0, 20170514.0, 20170501.0, 20170430.0, 20170502.0, 20170430.0, 20170503.0, 20170511.0, 20170505.0, 20170511.0, 20170511.0, 20170511.0, 20170510.0, 20170510.0, 20170511.0, 20170513.0, 20170513.0, 20170513.0, 20170513.0, 20170430.0, 20170430.0, 20170429.0, 20170512.0, 20170525.0, 20170524.0, 20170528.0, 20170527.0, 20170528.0, 20170515.0, 20170519.0, 20170519.0, 20170525.0, 20170528.0, 20170527.0, 20170526.0, 20170519.0, 20170523.0, 20170523.0, 20170523.0, 20170522.0, 20170522.0, 20170523.0, 20170525.0, 20170525.0, 20170525.0, 20170607.0, 20170607.0, 20170607.0, 20170607.0, 20170606.0, 20170607.0, 20170607.0, 20170613.0, 20170604.0, 20170601.0, 20170531.0, 20170531.0, 20170601.0, 20170530.0, 20170530.0, 20170529.0, 20170530.0, 20170621.0, 20170622.0, 20170627.0, 20170624.0, 20170626.0], [7011.0, 7399.0, 5999.0, 5533.0, 5533.0, 5735.0, 5943.0, 5944.0, 5533.0, 7399.0, 5631.0, 7011.0, 5411.0, 5511.0, 5732.0, 5946.0, 7399.0, 5661.0, 5812.0, 5814.0, 5651.0, 5943.0, 9399.0, 4899.0, 5946.0, 5533.0, 5533.0, 5533.0, 5331.0, 5533.0, 5533.0, 5533.0, 5533.0, 5533.0, 4812.0, 7399.0, 7399.0, 5732.0, 5331.0, 5732.0, 7399.0, 7399.0, 5533.0, 5732.0, 5533.0, 5732.0, 5712.0, 5712.0, 5999.0, 7399.0, 5941.0, 5999.0, 7399.0, 7399.0, 5999.0, 7399.0, 9222.0, 5169.0, 5941.0, 5533.0, 5641.0, 5533.0, 4899.0, 5533.0, 7399.0, 4722.0, 7012.0, 6513.0, 4899.0, 4722.0], ['ADAGIO SERVICED APARTM', 'GOOGLE *AIRBITS', 'PAYPAL *JACOB2682', 'PAYPAL *FANGHUAFEI', 'PAYPAL *ROCKYMOUNTA', 'ITUNES.COM/BILL', 'PAYPAL *TNTCAL', 'AL IMAN JEWELLERY (BR)', 'PAYPAL *KETRYANOLEG', 'GOOGLE *AIRBITS', 'GIOVANNI STAR TRADING', 'THE ACT HOTEL LLC', 'CARREFOUR', 'PREMIER MOTORS LLC', 'SHARAF DG LLC', 'PAYPAL *MAGICGLOBAL', 'GOOGLE *AIRBITS', 'CHIC SHOES', 'AL FORNO CC D303', 'DIP N DIP CAFETERIA', 'REDTAG', 'THE UNITED BOOKSTORE', 'Abu Dhabi Police', 'OSN - Gulf DTH FZ LLC', 'PAYPAL *MAGICGLOBAL', 'PAYPAL *ZHOUZIMING', 'PAYPAL *NORTHERNAUT', 'PAYPAL *LIN XINGMEI', 'PAYPAL *FANGHUAFEI', 'PAYPAL *KMJ PER', 'PAYPAL *HAOPENGFEI', 'PAYPAL *UPPER BOUND', 'PAYPAL *CARS 245', 'PAYPAL *TT STUFF', 'PAYPAL *VCELLPARTSI', 'GOOGLE *Genie9 LTD', 'PAYPAL *GLOBALSHIP', 'PAYPAL *COASTNATION', 'PAYPAL *HONGKONGYEE', 'PAYPAL *DEVRIESDESI', 'PAYPAL *GLOBALSHIP', 'GOOGLE *AIRBITS', 'PAYPAL *FANGXIAOWEN', 'PAYPAL *QUCHUNMING', 'PAYPAL *KETRYANOLEG', 'PAYPAL *CELLTEK INC', 'HOME CENTRE GULF LLC', 'HOME CENTRE GULF LLC', 'PAYPAL *JACOB2682', 'PAYPAL *GLOBALSHIP', 'PAYPAL *AWG MOTORS', 'American Muscle', 'GOOGLE *AIRBITS', 'PAYPAL *GLOBALSHIP', 'PAYPAL *KOTAONBAGS', 'GOOGLE *AIRBITS', 'EUROPEAN MUN DIV  NIVI', 'PAYPAL *DISCOUNTPER', 'PAYPAL *CUTEMDOWN', 'PAYPAL *FANGHUAFEI', 'PAYPAL *PANGMENGMEN', 'PAYPAL *ZHAOCHUNLIA', 'OSN - Gulf DTH FZ LLC', 'PAYPAL *CAMZOOMALL', 'GOOGLE *AIRBITS', 'AL JOKER TRAVEL', 'HOUSING32 APARTMENTS', 'FAKHRUDDIN HOTEL APARTMEN', 'OSN - Gulf DTH FZ LLC', 'AGENZIA VIAGGI EUROPLAN'], [1284.96, 3.67, 458.0, 52.01, 295.78, 14.99, 223.29, 1800.0, 267.28, 3.67, 150.0, 690.12, 276.74, 30275.0, 199.0, 73.98, 3.67, 165.0, 202.0, 135.0, 1563.0, 581.8, 600.0, 406.9, 74.0, 155.34, 252.94, 270.16, 32.54, 1488.92, 56.86, 106.87, 152.69, 248.14, 230.94, 15.54, 321.81, 1339.97, 13.52, 103.06, 123.79, 3.67, 68.69, 98.86, 190.92, 156.41, 1538.6, 1295.5, 387.6, 117.81, 72.06, 258.63, 3.67, 287.2, 954.53, 3.67, 203.94, 1851.86, 209.46, 72.56, 69.53, 174.82, 406.9, 109.41, 3.67, 12475.0, 531.87, 554.6, 406.9, 844.62], [-1284.96, -3.67, -458.0, -52.01, -295.78, -14.99, -223.29, -1800.0, -267.28, -3.67, -150.0, -690.12, -276.74, -30275.0, -199.0, -73.98, -3.67, -165.0, -202.0, -135.0, -1563.0, -581.8, -600.0, -406.9, -74.0, -155.34, -252.94, -270.16, -32.54, -1488.92, -56.86, -106.87, -152.69, -248.14, -230.94, -15.54, -321.81, -1339.97, -13.52, -103.06, -123.79, -3.67, -68.69, -98.86, -190.92, -156.41, -1538.6, -1295.5, -387.6, -117.81, -72.06, -258.63, -3.67, -287.2, -954.53, -3.67, -203.94, -1851.86, -209.46, -72.56, -69.53, -174.82, -406.9, -109.41, -3.67, -12475.0, -531.87, -554.6, -406.9, -844.62]])\n",
      "('1001026', [[6], ['30K+ Income'], [50000.0], [20170501.0, 20170510.0, 20170525.0, 20170526.0, 20170523.0, 20170525.0, 20170525.0, 20170518.0, 20170518.0, 20170514.0, 20170516.0, 20170518.0, 20170523.0, 20170523.0, 20170526.0, 20170526.0, 20170525.0, 20170525.0, 20170522.0, 20170522.0, 20170618.0, 20170615.0, 20170619.0, 20170619.0, 20170617.0, 20170607.0, 20170606.0, 20170608.0, 20170608.0, 20170611.0, 20170608.0, 20170611.0, 20170611.0, 20170611.0, 20170611.0, 20170611.0, 20170611.0, 20170611.0, 20170627.0], [4812.0, 4816.0, 4784.0, 7011.0, 5732.0, 5712.0, 5714.0, 3034.0, 3034.0, 8099.0, 8351.0, 3034.0, 5309.0, 5691.0, 3381.0, 4784.0, 7011.0, 7011.0, 4814.0, 4814.0, 5697.0, 5511.0, 5541.0, 5999.0, 5541.0, 7230.0, 7221.0, 3034.0, 3034.0, 5977.0, 3034.0, 5651.0, 4814.0, 4814.0, 4814.0, 5621.0, 5814.0, 5651.0, 7230.0], ['T-MOBILE #543', 'T MOBILE HOTSPOT GMBH', 'AUTOST CAORSO/MILANO SUD', 'SHERATON MILAN MALPENSA A', 'SHARAF ELECTRONICS6928', 'BACCANI GIOVANNI', 'FERMO VALLI TESSUTI', 'ETIHADAIRWA 6072132340456', 'ETIHADAIRWA 6072132340769', 'VITAL POLYCLINIC LLC', 'KIDS ACADEMY NURSERY-BR', 'ETIHADAIRWA 6072132340838', 'ABU DHABI DUTY FREE', 'PLAYGROUND', 'Europcar', 'AUTOST DIREZ.ENTRATA/MILA', 'FOUR SEASONS HOTEL FIRENZ', 'FOUR SEASONS HOTEL FIRENZ', 'Etisalat - Abu Dhabi #', 'Etisalat - Abu Dhabi #', 'AL SERB GENTS TAILORS', 'EMIRATES MOTOR COMPANY', 'ADNOC-ALKHUBEIRAH-FS13', 'CESARE PACIOTTI-ABU DHABI', 'ADNOC AL FAYA S/S-891', 'S T BEAUTY CENTRE6883', 'STU WILLIAMSON PHOTOGRAPH', 'ETIHADAIRWA 6072132516739', 'ETIHADAIRWA 6072132516738', 'SEPHORA EMIRATES LLC', 'ETIHADAIRWA 6072132516737', 'TOPSHOP', 'ETISALAT-M-AU', 'ETISALAT-M-AU', 'ETISALAT-M-AU', 'VICTORIA SECRET (VSFA)', 'STARBUCKS DEB 2', 'DEBENHAMS - G', 'S T BEAUTY CENTRE6883'], [199.68, 45.22, 23.38, 1311.29, 119.0, 1489.92, 1700.24, 1932.0, 931.34, 8800.0, 11295.0, 1298.0, 4256.6, 1449.69, 1592.07, 7.23, 9342.84, 850.12, 3134.85, 2928.16, 2400.0, 6200.0, 88.0, 2150.0, 127.03, 4345.0, 395.0, 1305.0, 1305.0, 155.0, 1885.0, 150.0, 25.0, 3033.0, 750.0, 370.0, 110.0, 4430.0, 3000.0], [-199.68, -45.22, -23.38, -1311.29, -119.0, -1489.92, -1700.24, -1932.0, -931.34, -8800.0, -11295.0, -1298.0, -4256.6, -1449.69, -1592.07, -7.23, -9342.84, -850.12, -3134.85, -2928.16, -2400.0, -6200.0, -88.0, -2150.0, -127.03, -4345.0, -395.0, -1305.0, -1305.0, -155.0, -1885.0, -150.0, -25.0, -3033.0, -750.0, -370.0, -110.0, -4430.0, -3000.0]])\n",
      "('1001030', [[6], ['< 8K income'], [10000.0], [20170501.0, 20170430.0, 20170502.0, 20170513.0, 20170502.0, 20170624.0, 20170620.0], [4121.0, 5812.0, 4121.0, 9399.0, 7011.0, 4121.0, 5977.0], ['UBER   US APR30 IN4UC', 'HOTEL ERWIN FOOD AND BEVE', 'UBER   US MAY02 ORCLD', 'SMART DUBAI GOVERNMENT', 'JAMAICA BAY INN 321', 'UBER TRIP D7WKF HELP.UBER', 'GOLDEN PERFUMES LLC'], [25.99, 242.12, 218.17, 970.0, 2660.86, 41.52, 750.0], [-25.99, -242.12, -218.17, -970.0, -2660.86, -41.52, -750.0]])\n",
      "('1001034', [[2, 5, 10], ['14K - 30K  income', '14K - 30K  income', '14K - 30K  income'], [20000.0, 20000.0, 20000.0], [20170105.0, 20170109.0, 20170105.0, 20170107.0, 20170104.0, 20170107.0, 20170121.0, 20170128.0, 20170129.0, 20170127.0, 20170116.0, 20170127.0, 20170120.0, 20170114.0, 20170120.0, 20170129.0, 20170129.0, 20170129.0, 20170129.0, 20170128.0, 20170104.0, 20161231.0, 20170127.0, 20170120.0, 20170120.0, 20170128.0, 20170128.0, 20170125.0, 20170127.0, 20170127.0, 20170128.0, 20170127.0, 20170114.0, 20170127.0, 20170123.0, 20170126.0, 20170128.0, 20170128.0, 20170122.0, 20170116.0, 20170109.0, 20170108.0, 20170108.0, 20170105.0, 20170105.0, 20170109.0, 20170111.0, 20170109.0, 20170111.0, 20170114.0, 20170104.0, 20170105.0, 20170106.0, 20170105.0, 20170105.0, 20170104.0, 20170106.0, 20170106.0, 20170107.0, 20170105.0, 20170105.0, 20170107.0, 20170107.0, 20170104.0, 20170105.0, 20170108.0, 20170114.0, 20170109.0, 20170107.0, 20170105.0, 20170108.0, 20170107.0, 20170104.0, 20170129.0, 20170120.0, 20170129.0, 20170127.0, 20170223.0, 20170130.0, 20170227.0, 20170227.0, 20170225.0, 20170221.0, 20170220.0, 20170221.0, 20170225.0, 20170223.0, 20170426.0, 20170428.0, 20170428.0, 20170427.0, 20170427.0, 20170422.0, 20170330.0, 20170330.0, 20170330.0, 20170329.0, 20170331.0, 20170406.0, 20170404.0, 20170405.0, 20170406.0, 20170331.0, 20170401.0, 20170331.0, 20170407.0, 20170409.0, 20170411.0, 20170411.0, 20170413.0, 20170412.0, 20170417.0, 20170419.0, 20170425.0, 20170425.0, 20170415.0, 20170424.0, 20170425.0, 20170423.0, 20170428.0, 20170427.0, 20170427.0, 20170428.0, 20170424.0, 20170427.0, 20170422.0, 20170427.0, 20170427.0, 20170427.0, 20170527.0, 20170529.0, 20170529.0, 20170529.0, 20170525.0, 20170525.0, 20170525.0, 20170525.0, 20170506.0, 20170506.0, 20170506.0, 20170508.0, 20170430.0, 20170430.0, 20170502.0, 20170429.0, 20170502.0, 20170502.0, 20170502.0, 20170515.0, 20170527.0, 20170525.0, 20170528.0, 20170523.0, 20170830.0, 20170830.0, 20170830.0, 20170829.0, 20170831.0, 20170831.0, 20170901.0, 20170831.0, 20170907.0, 20170907.0, 20170907.0, 20170904.0, 20170913.0, 20170911.0, 20170911.0, 20170911.0, 20170911.0, 20170911.0, 20170911.0, 20170926.0, 20170925.0, 20170926.0, 20171016.0, 20171016.0, 20171015.0, 20171018.0, 20171004.0, 20171012.0, 20171012.0, 20171001.0, 20171001.0, 20171002.0, 20171018.0, 20171028.0, 20171028.0, 20171029.0, 20171018.0, 20171019.0, 20171030.0, 20171030.0, 20171030.0, 20171029.0, 20171028.0], [5651.0, 5411.0, 5651.0, 5311.0, 5977.0, 5651.0, 7230.0, 5499.0, 8071.0, 5814.0, 5411.0, 5712.0, 5631.0, 5411.0, 5977.0, 5912.0, 5814.0, 5541.0, 8099.0, 5814.0, 5977.0, 5912.0, 5651.0, 5977.0, 5651.0, 5651.0, 7230.0, 8071.0, 5641.0, 5814.0, 5411.0, 5621.0, 5912.0, 5651.0, 5812.0, 5812.0, 5992.0, 5691.0, 5814.0, 5999.0, 5977.0, 5977.0, 5977.0, 5977.0, 5977.0, 5621.0, 5977.0, 5651.0, 5462.0, 5441.0, 5641.0, 5311.0, 7230.0, 5631.0, 5977.0, 5691.0, 5651.0, 5651.0, 5651.0, 5651.0, 5651.0, 5441.0, 7372.0, 5651.0, 5651.0, 8099.0, 5992.0, 5631.0, 5411.0, 5621.0, 5651.0, 5941.0, 5651.0, 5977.0, 5977.0, 5977.0, 5641.0, 5697.0, 8099.0, 6011.0, 5944.0, 5621.0, 7230.0, 5812.0, 7230.0, 5697.0, 5411.0, 7230.0, 5977.0, 5331.0, 5651.0, 5812.0, 5411.0, 5499.0, 5651.0, 5651.0, 5541.0, 5651.0, 5999.0, 5977.0, 5621.0, 5499.0, 5651.0, 7372.0, 5735.0, 5697.0, 5812.0, 8011.0, 5621.0, 7230.0, 5812.0, 5812.0, 8099.0, 5814.0, 5941.0, 5944.0, 5651.0, 6011.0, 5735.0, 5977.0, 6011.0, 5411.0, 5977.0, 5541.0, 5411.0, 5311.0, 5941.0, 5977.0, 7230.0, 6011.0, 9399.0, 6300.0, 9399.0, 5814.0, 5651.0, 5691.0, 7832.0, 5411.0, 5411.0, 5735.0, 5812.0, 5977.0, 7230.0, 5411.0, 5651.0, 5651.0, 5977.0, 5945.0, 5735.0, 5651.0, 5621.0, 5912.0, 5735.0, 5814.0, 5912.0, 5691.0, 7230.0, 5814.0, 5311.0, 7230.0, 5977.0, 5651.0, 5651.0, 5691.0, 5411.0, 7230.0, 5651.0, 5941.0, 5311.0, 5941.0, 5651.0, 5651.0, 6011.0, 6011.0, 5651.0, 5621.0, 5411.0, 5411.0, 5621.0, 4899.0, 5812.0, 5814.0, 5541.0, 5912.0, 5999.0, 5812.0, 5411.0, 5122.0, 5977.0, 5912.0, 5814.0, 6011.0, 6011.0, 6011.0, 5047.0, 5812.0], ['DAREEN CLAIRES -CC3971', 'CARREFOUR', 'LIWA TRADING ENTERPISESS', 'MAX RETAIL LLC', 'THE BODY SHOP AUH-BR 1', 'AL MANA FASHION-ALSHAR', 'TIPS & TOES SAL KHA888', 'GALADARI ICE CREAM CO LTD', 'THE OPEN MRI CENTER', 'TEA BREAK CAFE-BR 4', 'CARREFOUR', 'HOME CENTRE GULF LLC', 'APPAREL  BOTT BAS M', 'LULU EXPRESS FRESH MARKET', 'PARIS GALLERY LLC (P40)', 'IBN SINA PHARMACY LLC BR', 'TEA BREAK CAFE-BR 4', 'ADNOC SMART 162-RABDAN', 'KAYA SKIN CLINIC', 'TEA BREAK CAFE-BR 4', 'ARABIAN OUD-BRANCH 12', 'HEALTH FIRST PHARMACY', 'DUBAI HOLDING GROUP LLC B', 'PARIS GALLERY LLC (P40)', 'D732-H&M DETAIL', 'DEBENHAMS - G', 'TIPS &TOES SAL KHAL896', 'AL ANAMEL MEDICAL CENTER', 'THE BABY SHOP LLC', 'FOOD MARK LLC', 'LULU EXPRESS FRESH MARKET', 'VICTORIA SECRET (VSFA)', 'PALM COMMUNITY PHARMACY', 'DEBENHAMS - G', 'SLICES RESTAURANT LLC', 'SLICES RESTAURANT LLC', 'LE CADEAU CHOCOLATES &', 'MONSOON', 'cafe arabia', 'NAZIH HAMAD TRADING CO LL', 'PARIS GALLERY LLC P40', 'THE FACE SHOP-AL ANBAR', 'THE FACE SHOP-AL ANBAR', 'IBN SINA COSMETICS', 'APPAREL INGLOT BAS M', 'APPAREL GARAGE BAS M', 'SEPHORA EMIRATES LLC', 'MAC -CC  3919', 'MAGNOLIA BAKERY BR OF MAD', 'LABELLE CHOCOLATES', 'DB BABIES TRADING LLC', 'MAX RETAIL LLC', 'TIPS &TOES SAL KHAL896', 'APPAREL  BOTT BAS M', 'ALLIED ENTERPRISES LLC', 'BERSHKA', 'MOTHERCARE -CC 4336', 'MOTHERCARE -CC 4336', 'DP', 'LIWA TRADING ENTERPISESS', 'LIWA TRADING ENTERPISESS', 'SAAF DATE AND CHOCOLATE L', 'SOUQ.COM FZ LLC', 'NEWLOOK LONDON LLC', 'TOPSHOP', 'KAYA SKIN CLINIC', 'ALMA FLOWERS', 'APPAREL  BOTT BAS M', 'AL MAYA GLOBAL LLC', 'ANNABELLE', 'AMERICAN EAGLE CC 4417', 'SUN AND SAND SPORTS KIDS', 'LANDMARK INTERNATIONAL L', 'PARIS GALLERY LLC (P40)', 'SEPHORA EMIRATES LLC', 'THE FACE SHOP-AL ANBAR', 'THE BABY SHOP LLC', 'DAR AL WAAD CLOAKS AND SH', 'KAYA SKIN CLINIC', 'NBAD/HEALTH AUTHO', 'PALAZO JEWELLERY LLC', 'LOUZAN FASHION LLC', 'TIPS & TOES SAL KHA888', 'SLICES RESTAURANT LLC', 'TIPS & TOES SAL KHA888', 'DAR AL WAAD CLOAKS AND SH', 'RAK NATIONAL MARKETS', 'TOP SPA & BEAUTY CENTER', 'SEPHORA EMIRATES LLC', 'DAISO JAPAN VALUE STORE', 'AL MANA FASHION-ALSHAR', 'METROPOLITAN FOODS LLC', 'CARREFOUR - RAK2', 'AL KHAYYAT INVESTMENT LLC', 'COACH BR OF AL TAYER INSI', 'COACH BR OF AL TAYER INSI', 'ADNOC ZAYED STAD S/S91', 'H2 FASHION (JENNYFE195', 'NAZIH TRADING CO LLC', 'LIFESTYLE AL KHALEEJ LLC', 'RAJAN TRADING CO LLC BR', 'GALADARI ICE CREAM CO LTD', 'COACH AL TAYER INSIGNIA', 'SOUQ.COM FZ LLC', 'ITUNES.COM/BILL', 'DAR AL WAAD CLOAKS AND SH', 'SLICES RESTAURANT LLC', 'AL ALIAA POLYCLINIC', 'BATA JORDAN CO LEATHER', 'TIPS &TOES SAL KHAL896', 'SLICES RESTAURANT LLC', 'SLICES RESTAURANT LLC', 'FAKIH IVF FERTILITY CENTE', 'KFC BAWABIT AL SHARQ', 'SUN AND SAND SPORTS KIDS', 'AL BUROOG JEWELLERY LLC', 'MOTHERCARE -CC 4336', 'UNION NATIONAL/UNION NATI', 'ITUNES.COM/BILL', 'MAC', 'Carrefour Air Port Road', 'CARREFOUR AL SAQR', 'SEPHORA EMIRATES LLC', 'ADNOC SHAWAMEKH S/S-75', 'LULU EXPRESS FRESH MARKET', 'MAX RETAIL LLC', 'SUN AND SAND SPORTS KIDS', 'SEPHORA EMIRATES LLC', 'TOP SPA & BEAUTY CENTER', 'UNION NATIONAL/UNION NATI', 'MOI TRAFFIC FINES', 'AL HILAL TAKAFUL PSC-BR', 'Abu Dhabi Police', 'AMORIO GELATO CAFE', 'DEBENHAMS - G', 'KIDS PUZZLE TRADING LLC', 'MAJID AL FUTTAIM CINEMAS', 'LULU EXPRESS FRESH MARKET', 'LULU EXPRESS FRESH MARKET', 'ITUNES.COM/BILL', 'METROPOLITAN FOODS LLC', 'SEPHORA EMIRATES LLC', 'TIPS &TOES SAL KHAL896', 'CARREFOUR', 'SPLASH LLC', 'MAC CC 4287', 'BATH & BODY WORKS CC 4017', 'PARTY CENTRE-AUH BR 2', 'ITUNES.COM/BILL', 'LIWA TRADING ENTERPISESS', 'MOTHERCARE', 'MEDICINA AL MUNEERA PH', 'ITUNES.COM/BILL', 'ASHAS', 'FAKIH MEDICAL CENTER PHAR', 'KIDS PUZZLE TRADING LLC', 'TIPS &TOES SAL KHAL896', 'CONTINENTAL FOOD ESTABLIS', 'LANDMARK RETAIL INVESTMEN', 'PAUSE SALON AND SPA FOR W', 'ANFASIC DOKHOON LLC', 'EMPORIO ARMANI BR OF AL T', 'LUXURY GOODS GULF LLC', 'PRADA', 'CARREFOUR AL SAQR', 'TIPS &TOES SAL KHAL896', 'H2 FASHION LLC-AL WAHD', 'ADIDAS EMERGING MARKET LL', 'ICONIC INTERNATIONAL LLC', 'ADIDAS EMERGING MARKET LL', 'BRANDS FOR LESS LLC', 'BRANDS FOR LESS LLC', 'ADIB-BANIYAS BR ATM', 'NBAD/HEALTH AUTHO', 'NEXT CC 4337', 'AYOOB EXHIBITION BR668', 'CARREFOUR AL SAQR', 'LULU EXPRESS FRESH MARKET', 'AYOOB EXHIBITION BR668', 'NETFLIX.COM', 'METROPOLITAN FOODS LLC', 'CRAVIA INC LLC ABU DHABI', 'ADNOCPOLICE COLG-S/S79', 'ALANAMIL PHARMACY', 'KAMAL OSMAN JAMJOOM TRADI', 'METROPOLITAN FOODS LLC', 'LULU EXPRESS FRESH MARKET', 'AL SHAWAMIKH PHARMA125', 'IBRAHEM AL QURASHI', 'ELITE MODERN PHARMACY', 'TEA CLUB', 'Carrefour Air Port Road', 'Carrefour Air Port Road', 'Carrefour Air Port Road', 'ARABIAN OUD-BRANCH 12', 'TALABAT MIDDLE EAST INTER'], [105.0, 384.0, 78.0, 68.0, 503.0, 187.0, 150.0, 80.0, 310.4, 60.0, 251.1, 384.0, 19.0, 64.0, 419.0, 110.0, 21.0, 115.0, 1646.0, 78.0, 340.0, 51.0, 344.0, 66.0, 294.0, 290.0, 240.0, 92.3, 72.0, 21.0, 67.0, 555.0, 69.0, 836.0, 28.0, 24.0, 130.0, 207.0, 107.0, 600.0, 1161.0, 93.0, 35.0, 420.0, 230.0, 110.0, 225.0, 125.0, 60.0, 350.0, 699.0, 392.0, 466.0, 275.0, 546.0, 78.0, 25.0, 509.0, 90.0, 103.0, 354.0, 105.0, 239.98, 44.0, 128.0, 2428.0, 360.0, 57.0, 70.0, 505.0, 450.0, 304.0, 118.0, 255.0, 1500.0, 35.0, 38.0, 1900.0, 325.0, 2300.0, 500.0, 90.0, 130.0, 44.0, 530.0, 1100.0, 177.75, 200.0, 570.0, 136.0, 95.0, 20.0, 70.8, 463.5, 285.0, 285.0, 113.01, 237.0, 145.0, 521.0, 457.25, 64.0, 275.0, 276.99, 44.99, 500.0, 20.0, 625.0, 220.0, 580.0, 12.8, 24.8, 127.8, 60.0, 1680.0, 1000.0, 420.0, 1500.0, 44.99, 299.0, 2000.0, 78.98, 580.0, 112.01, 41.75, 60.0, 189.0, 394.0, 975.0, 4300.0, 900.0, 1865.0, 118.0, 60.0, 191.0, 2105.0, 171.0, 300.65, 39.85, 24.99, 28.0, 158.0, 2237.25, 144.95, 312.0, 277.0, 195.0, 166.0, 3.69, 84.0, 379.0, 125.0, 44.99, 215.0, 69.0, 75.0, 681.0, 61.0, 285.0, 165.0, 340.0, 1790.0, 585.0, 635.0, 865.03, 120.0, 39.0, 995.0, 345.01, 60.0, 38.0, 68.0, 5000.0, 5400.0, 440.0, 369.0, 175.65, 162.65, 35.0, 45.41, 38.0, 63.0, 120.01, 31.0, 210.0, 23.0, 3.2, 73.0, 100.0, 115.0, 214.0, 1000.0, 4500.0, 5000.0, 1500.0, 220.0], [-105.0, -384.0, -78.0, -68.0, -503.0, -187.0, -150.0, -80.0, -310.4, -60.0, -251.1, -384.0, -19.0, -64.0, -419.0, -110.0, -21.0, -115.0, -1646.0, -78.0, -340.0, -51.0, -344.0, -66.0, -294.0, -290.0, -240.0, -92.3, -72.0, -21.0, -67.0, -555.0, -69.0, -836.0, -28.0, -24.0, -130.0, -207.0, -107.0, -600.0, -1161.0, -93.0, -35.0, -420.0, -230.0, -110.0, -225.0, -125.0, -60.0, -350.0, -699.0, -392.0, -466.0, -275.0, -546.0, -78.0, -25.0, -509.0, -90.0, -103.0, -354.0, -105.0, -239.98, -44.0, -128.0, -2428.0, -360.0, -57.0, -70.0, -505.0, -450.0, -304.0, -118.0, -255.0, -1500.0, -35.0, -38.0, -1900.0, -325.0, -2300.0, -500.0, -90.0, -130.0, -44.0, -530.0, -1100.0, -177.75, -200.0, -570.0, -136.0, -95.0, -20.0, -70.8, -463.5, -285.0, -285.0, -113.01, -237.0, -145.0, -521.0, -457.25, -64.0, -275.0, -276.99, -44.99, -500.0, -20.0, -625.0, -220.0, -580.0, -12.8, -24.8, -127.8, -60.0, -1680.0, -1000.0, -420.0, -1500.0, -44.99, -299.0, -2000.0, -78.98, -580.0, -112.01, -41.75, -60.0, -189.0, -394.0, -975.0, -4300.0, -900.0, -1865.0, -118.0, -60.0, -191.0, -2105.0, -171.0, -300.65, -39.85, -24.99, -28.0, -158.0, -2237.25, -144.95, -312.0, -277.0, -195.0, -166.0, -3.69, -84.0, -379.0, -125.0, -44.99, -215.0, -69.0, -75.0, -681.0, -61.0, -285.0, -165.0, -340.0, -1790.0, -585.0, -635.0, -865.03, -120.0, -39.0, -995.0, -345.01, -60.0, -38.0, -68.0, -5000.0, -5400.0, -440.0, -369.0, -175.65, -162.65, -35.0, -45.41, -38.0, -63.0, -120.01, -31.0, -210.0, -23.0, -3.2, -73.0, -100.0, -115.0, -214.0, -1000.0, -4500.0, -5000.0, -1500.0, -220.0]])\n",
      "('1001054', [[6, 12], ['14K - 30K  income', '14K - 30K  income'], [10000.0, 10000.0], [20170529.0, 20170516.0, 20170505.0, 20170525.0, 20170524.0, 20170519.0, 20170605.0, 20170614.0, 20171030.0, 20171030.0, 20171127.0, 20171218.0], [5691.0, 4814.0, 5621.0, 5949.0, 5944.0, 5949.0, 5977.0, 5631.0, 5621.0, 5621.0, 5814.0, 5047.0], ['VALENTINO SINGAPORE PTE.', 'TELSTRA BILL PAYMNT', 'ZARA-GREAT WORLD CITY', 'ALJUNIED BROTHERS', 'CARTIER BOUTIQUE-NAC T', 'ALJUNIED BROTHERS', 'LUXASIA PTE LTD', 'KASHKHA -MM', 'SAINT LAURENT-MBS#B2-32/3', 'SAINT LAURENT-MBS#B2-32/3', 'SHE BURGER LLC', 'CANADIAN MED. CTR. FOR'], [3672.84, 551.44, 458.73, 317.62, 3964.5, 2077.25, 455.73, 550.14, 5569.48, 2784.74, 297.0, 419.0], [-3672.84, -551.44, -458.73, -317.62, -3964.5, -2077.25, -455.73, -550.14, -5569.48, -2784.74, -297.0, -419.0]])\n",
      "('1001060', [[8], ['14K - 30K  income'], [5000.0], [], [], [], [], []])\n",
      "('1001068', [[7, 9, 11], ['14K - 30K  income', '14K - 30K  income', '14K - 30K  income'], [10000.0, 10000.0, 10000.0], [20170605.0, 20170602.0, 20170602.0, 20170610.0, 20170609.0, 20170609.0, 20170616.0, 20170619.0, 20170615.0, 20170619.0, 20170617.0, 20170717.0, 20170629.0, 20170628.0, 20170628.0, 20170715.0, 20170716.0, 20170715.0, 20170719.0, 20170723.0, 20170712.0, 20170712.0, 20170727.0, 20170727.0, 20170816.0, 20170814.0, 20170808.0, 20170812.0, 20170812.0, 20170812.0, 20170817.0, 20170920.0, 20170920.0, 20170920.0, 20170920.0, 20170916.0, 20170913.0, 20170916.0, 20170913.0, 20170923.0, 20170921.0, 20170923.0, 20170926.0, 20170927.0, 20170921.0, 20170928.0, 20170927.0, 20170928.0, 20170928.0, 20170925.0, 20171012.0, 20171012.0, 20171010.0, 20171012.0, 20171010.0, 20171012.0, 20171010.0, 20171017.0, 20171019.0, 20171018.0, 20171020.0, 20171020.0, 20171016.0, 20171021.0, 20171029.0, 20171021.0, 20171020.0, 20171018.0, 20171122.0, 20171122.0, 20171118.0, 20171102.0, 20171123.0, 20171127.0], [5311.0, 3034.0, 3034.0, 4812.0, 7535.0, 5399.0, 5691.0, 5812.0, 5411.0, 5941.0, 5411.0, 7230.0, 5812.0, 5999.0, 5541.0, 5944.0, 5651.0, 5411.0, 7011.0, 5691.0, 5661.0, 5977.0, 5943.0, 5691.0, 5411.0, 5977.0, 8099.0, 5621.0, 5712.0, 5712.0, 5814.0, 5977.0, 5977.0, 5977.0, 5977.0, 7298.0, 5499.0, 5812.0, 5691.0, 5661.0, 5541.0, 5651.0, 5812.0, 5814.0, 7230.0, 5047.0, 5814.0, 5651.0, 8043.0, 5411.0, 5977.0, 5641.0, 5812.0, 5941.0, 5651.0, 7941.0, 7298.0, 5712.0, 7230.0, 5441.0, 5541.0, 5812.0, 5661.0, 5814.0, 5541.0, 5977.0, 5814.0, 5411.0, 5699.0, 5812.0, 5912.0, 5651.0, 3657.0, 5541.0], ['GALERIES LAFAYETTE', 'ETIHADAIRWA 6072132457684', 'ETIHADAIRWA 6078202792453', 'CAVARATY STORE', 'SAMA AL KUWAIT EST', 'ALMOALLEM 26', 'SCHNARWILER (BR OF FANAR', 'TASHAS RESTAURANT', 'SHAHEEN TRADING COMPANY', 'ADIDAS EMERGING MARKET', 'LULU HYPERMARKET LLC-BR-', \"THE CAPITAL'S BEAUTY SECR\", 'CAMACHO ITALIAN RESTAURAN', 'NAZIH H.TRADING CO LLC', 'ADNOC AL ZAAB S/S-795', 'AL ROMAIZAN GOLD AND JEWE', 'ORIGEM', 'YAS MART GENERAL TRADING', 'W HOTEL AL HABTOOR CITY D', 'PULL & BEAR', 'SHOEMART LLC', 'HOLLAND AND BARRETT TRADI', 'SYH RETAIL GENERAL TRADIN', 'KIKO', 'LULU HYPERMARKET LLC-BR-', 'YOUSEF ALROUMI TRADING LL', 'BELLA ROMA MEDICAL AND AE', 'GEM LUXURY BOUTIQUE', 'VICTORIAN HOUSE', 'VICTORIAN HOUSE', 'LA BRIOCHE OWNED BY AL AH', 'ALLIED ENTERPRISES WOJOOH', 'BALEGRO COSMETICS TRADING', 'LIFESTYLE CITY LLC', 'BALEGRO COSMETICS TRADING', 'BELLE DEMOISELLE SPA L', 'DR.NUTRITION CTR-AUH B', 'MORBIDO RESTAURANT AND CA', 'PULL & BEAR', 'MONTREAL ALD WDA M', 'ADNOC AL ZAAB S/S-795', 'MAC CC 4287', 'MEYLAS EMIRATI RESTAURANT', 'HOME BAKERY LLC', 'BEDASHING BEAUTY L BR.', 'THE BODY SHOP-FOTOUH', 'SAUDIAN KITCHEN', 'MARKS&SPENCER-FOTOUH-A', 'AL EITHAR OPTICAL CENTRE', 'LULU HYPERMARKET LLC-BR-', 'SEPHORA EMIRATES LLC', 'THE BABY SHOP LLC', 'WILSHIRE FOODS LLC', 'ADIDAS EMERGING MARKET LL', 'RSH M E-STADIUM DEERFI', 'ASICS', 'STOP RELAX SPA FOR LAD', 'IKEA-YAS-ALFUTTAIM', 'THE NAILS HOUSE-AUH', 'TEUSCHER CHOCOLATES', 'ADNOC KHJ ARABI S/S-79', 'MAMA FUS', 'SHOE PLAZA DUN MOE', 'MIRAQE GENERAL TRADING LL', 'ADNOC KHJ ARABI S/S-79', 'ORGANIC HOUSE PERFUMES AN', 'DIP N DIP CAFETERIA', 'AL ACCAD DEPT STORES BR', 'LIWA TRDG (LOVISA)', 'WAFI GOURMET BR OF WAFI', 'AL MANARA PHARMACY-MUS', 'Retail Projects', 'AL ZORAH DEVELOPMENT (PRI', 'ADNOC AL ZAAB S/S-795'], [1550.0, 1051.0, 220.0, 1090.82, 1645.59, 623.33, 55.0, 403.0, 103.25, 70.0, 246.35, 130.0, 242.0, 824.5, 74.03, 880.0, 147.0, 227.75, 1367.0, 177.0, 85.01, 540.0, 271.0, 195.0, 209.75, 200.0, 837.0, 350.0, 192.0, 355.0, 241.0, 290.0, 100.0, 123.25, 150.0, 150.0, 46.0, 303.0, 198.0, 199.0, 105.01, 295.0, 87.0, 45.0, 230.0, 887.0, 247.0, 379.0, 160.0, 327.75, 483.0, 330.0, 35.0, 608.0, 210.0, 117.0, 280.0, 201.0, 40.0, 30.0, 105.03, 170.0, 598.0, 40.0, 101.02, 310.0, 100.0, 232.7, 238.7, 138.0, 395.0, 904.05, 80.0, 85.01], [-1550.0, -1051.0, -220.0, -1090.82, -1645.59, -623.33, -55.0, -403.0, -103.25, -70.0, -246.35, -130.0, -242.0, -824.5, -74.03, -880.0, -147.0, -227.75, -1367.0, -177.0, -85.01, -540.0, -271.0, -195.0, -209.75, -200.0, -837.0, -350.0, -192.0, -355.0, -241.0, -290.0, -100.0, -123.25, -150.0, -150.0, -46.0, -303.0, -198.0, -199.0, -105.01, -295.0, -87.0, -45.0, -230.0, -887.0, -247.0, -379.0, -160.0, -327.75, -483.0, -330.0, -35.0, -608.0, -210.0, -117.0, -280.0, -201.0, -40.0, -30.0, -105.03, -170.0, -598.0, -40.0, -101.02, -310.0, -100.0, -232.7, -238.7, -138.0, -395.0, -904.05, -80.0, -85.01]])\n",
      "('1001076', [[9, 11], ['30K+ Income', '30K+ Income'], [10000.0, 10000.0], [20170815.0, 20170822.0, 20170819.0, 20170817.0, 20170818.0, 20170812.0, 20170813.0, 20170731.0, 20170731.0, 20170803.0, 20170803.0, 20170803.0, 20170731.0, 20170802.0, 20170803.0, 20170802.0, 20170802.0, 20170807.0, 20170810.0, 20170808.0, 20170810.0, 20170810.0, 20170810.0, 20170810.0, 20170812.0, 20170812.0, 20170813.0, 20170814.0, 20170812.0, 20170820.0, 20170815.0, 20170820.0, 20170815.0, 20170819.0, 20170819.0, 20170819.0, 20170814.0, 20170816.0, 20170816.0, 20170825.0, 20170826.0, 20170826.0, 20170825.0, 20170825.0, 20170823.0, 20170824.0, 20170824.0, 20170825.0, 20170823.0, 20170823.0, 20170824.0, 20170828.0, 20170827.0, 20170824.0, 20170824.0, 20170829.0, 20170824.0, 20170827.0, 20170920.0, 20170906.0, 20170905.0, 20170907.0, 20170908.0, 20170907.0, 20170908.0, 20170903.0, 20170830.0, 20170831.0, 20170901.0, 20170830.0, 20170831.0, 20170831.0, 20170904.0, 20170903.0, 20170903.0, 20170904.0, 20170904.0, 20170906.0, 20170907.0, 20170906.0, 20170907.0, 20170831.0, 20170830.0, 20170831.0, 20170830.0, 20170830.0, 20170829.0, 20170830.0, 20170829.0, 20170913.0, 20170913.0, 20170913.0, 20170928.0, 20170928.0, 20170928.0, 20170928.0, 20170928.0, 20171021.0, 20171023.0, 20171023.0, 20171024.0, 20171016.0, 20171022.0, 20171017.0, 20171027.0, 20171026.0, 20171015.0, 20171014.0, 20171017.0, 20171022.0, 20171015.0, 20171014.0, 20171015.0, 20171015.0, 20171014.0, 20171015.0, 20171014.0, 20171027.0, 20171027.0, 20171024.0, 20171024.0, 20171016.0, 20171021.0, 20171026.0, 20171023.0, 20171001.0, 20171001.0, 20171012.0, 20171002.0, 20171005.0, 20171011.0, 20171008.0, 20170930.0, 20171005.0, 20171014.0, 20171007.0, 20171013.0, 20171012.0, 20170930.0, 20171012.0, 20171012.0, 20171003.0, 20171010.0, 20171004.0, 20171010.0, 20171007.0, 20171007.0, 20171008.0, 20171005.0, 20171003.0, 20171012.0, 20171002.0, 20171004.0, 20171001.0, 20171011.0, 20171009.0, 20171019.0, 20171018.0, 20171017.0, 20171025.0, 20171021.0, 20171020.0, 20171029.0, 20171029.0, 20171028.0, 20171028.0, 20171020.0, 20171026.0, 20171017.0, 20171119.0, 20171119.0, 20171120.0, 20171030.0, 20171031.0, 20171031.0, 20171030.0, 20171030.0, 20171031.0, 20171101.0, 20171104.0, 20171105.0, 20171103.0, 20171103.0, 20171104.0, 20171104.0, 20171103.0, 20171104.0, 20171103.0, 20171104.0, 20171103.0, 20171104.0, 20171103.0, 20171103.0, 20171104.0, 20171106.0, 20171105.0, 20171105.0, 20171106.0, 20171108.0, 20171107.0, 20171110.0, 20171127.0], [5411.0, 5541.0, 5411.0, 5814.0, 5541.0, 5541.0, 5411.0, 5541.0, 6300.0, 5661.0, 5411.0, 7832.0, 9399.0, 5977.0, 6011.0, 4812.0, 5541.0, 5541.0, 5541.0, 5411.0, 5411.0, 9399.0, 5541.0, 5441.0, 5814.0, 7011.0, 5814.0, 5814.0, 5812.0, 5311.0, 9399.0, 5912.0, 8211.0, 5661.0, 5499.0, 5661.0, 5541.0, 5541.0, 5541.0, 7832.0, 5541.0, 5541.0, 5541.0, 5541.0, 5812.0, 5411.0, 5411.0, 7832.0, 5541.0, 5541.0, 5411.0, 5814.0, 5411.0, 5441.0, 5499.0, 5411.0, 5541.0, 7542.0, 5541.0, 5541.0, 5541.0, 5541.0, 5411.0, 7011.0, 7011.0, 5541.0, 5411.0, 5411.0, 5411.0, 5697.0, 5697.0, 5814.0, 5411.0, 5941.0, 7832.0, 5814.0, 5541.0, 5814.0, 5311.0, 7832.0, 5541.0, 5441.0, 5541.0, 5977.0, 5651.0, 5541.0, 5541.0, 5814.0, 5411.0, 7832.0, 5411.0, 5411.0, 5814.0, 5912.0, 5541.0, 5977.0, 5541.0, 5411.0, 5541.0, 5541.0, 5411.0, 5411.0, 5541.0, 5541.0, 5411.0, 5814.0, 5533.0, 5411.0, 4722.0, 5411.0, 5541.0, 5814.0, 5541.0, 5411.0, 5311.0, 5814.0, 5541.0, 5411.0, 5411.0, 5411.0, 5912.0, 5912.0, 5311.0, 5541.0, 5814.0, 5047.0, 5814.0, 5541.0, 5411.0, 5309.0, 5411.0, 5541.0, 5912.0, 5309.0, 5411.0, 5411.0, 5661.0, 5311.0, 5411.0, 5977.0, 5814.0, 4511.0, 5541.0, 5912.0, 9399.0, 5309.0, 5441.0, 5541.0, 5812.0, 5411.0, 5814.0, 5411.0, 763.0, 5541.0, 5411.0, 5541.0, 5812.0, 5541.0, 5411.0, 5541.0, 5941.0, 7832.0, 5814.0, 5411.0, 5814.0, 5541.0, 5541.0, 5814.0, 5411.0, 5814.0, 9399.0, 5541.0, 5541.0, 5411.0, 5411.0, 4814.0, 5411.0, 5912.0, 5912.0, 5541.0, 5411.0, 7832.0, 7832.0, 5941.0, 5814.0, 5541.0, 5499.0, 5211.0, 9399.0, 5999.0, 5541.0, 5411.0, 5411.0, 5941.0, 5411.0, 5541.0, 5541.0, 5541.0, 5411.0, 5541.0, 5411.0, 5541.0], ['ARMED FORCES COOP', 'ADNOC ZAKHER S/S - 948', 'ARMED FORCES COOP', 'MCDONALDS-AL AIN', 'ADNOC Saih Bin Ammar F', 'ADNOC AL GHAIL S/S-852', 'ARMED FORCES COOP', 'ADNOC BATAH ALAHYER F/', 'AL AIN AHLIA INSU', 'FOOT CARE CENTER LLC', 'ARMED FORCES COOP', 'OSCAR CINEMA BARARI OUTLE', 'AUH POLICE KIOSK', 'PARIS GALLERY', 'Al Ain Immigration Br.', 'PHONE STATION', 'ADNOC Saih Bin Ammar F', 'ADNOC ZAKHER S/S - 948', 'FASTTRACK', 'AL AIN COOPERATIVE', 'CARREFOUR', 'AL AIN CITY MUN-FOOD D', 'ADNOC AL GHAIL S/S-852', 'AL HOMAIZI NUTS & FOOD', 'GOLDEN SHEEP RESTAURANT', 'CENTARA', 'KFC ZAKHER', 'ROYAL HOUSE RESTAURANT', 'INDIAN HOUSE RESTAURANT', 'MY SAFEER LLC', 'SPHONE TRAFFIC FINES', 'ALPHAMED-BIN SINA PHARMCY', 'LIWA INTERNATIONAL', 'SHOEMART LLC', 'GALADARI ICE CREAM CO LTD', 'SHOEMART LLC', 'ADNOC ZAKHER S/S - 948', 'ADNOC ZAKHER S/S - 948', 'ADNOC ZAKHER S/S - 948', 'OSCAR CINEMA BARARI OUTLE', 'ADNOC ZAKHER S/S - 948', 'ADNOC ZAKHER S/S - 948', 'ADNOC REMA S/S 947', 'ADNOC AL FAYA S/S-891', 'LITALIANOS RESTAURANT', 'AL AIN COOPERATIVE', 'AL AIN COOPERATIVE', 'OSCAR CINEMA BARARI OUTLE', 'ADNOC ZAKHER S/S - 948', 'ADNOC MASAKIN S/S-774', 'ARMED FORCES COOP', 'KUWAIT FOOD CO AMERICANA', 'AL AIN COOPERATIVE', 'AL HOMAIZI NUTS & FOOD', 'D543-TEAVANA-DAREEN', 'AL AIN COOPERATIVE', 'FASTTRACK', 'HAFEET GRAND CAR WASH', 'ADNOC AL MAQAM S/S- 86', 'ADNOC MAZYAD S/S-945', 'ADNOC Saih Bin Ammar F', 'ADNOC AL FAQAA F/S- 85', 'ARMED FORCES COOP', 'RAMADA BEACH HOTEL-AJMAN', 'RAMADA BEACH HOTEL-AJMAN', 'ADNOC ZAKHER S/S - 948', 'FALCON PACK', 'AL AIN COOPERATIVE', 'ARMED FORCES COOP', 'AL MAGHREB TAILORS', 'AL BAWADI GENTS', 'QUALITY BRANDS TRADING', 'ARMED FORCES COOP', 'ADIDAS EMERGING MARKET LL', 'OSCAR CINEMA BARARI OUTLE', 'LA BRIOCHE-AL AIN MAIN', 'ADNOC MAZYAD S/S-945', 'LA BRIOCHE-REMAL MALL', 'NEW AL SAFA CENTRE LLC', 'AL NISR CINEMA FILM LLC', 'ADNOC AL MUWAIJI S/S 9', 'AL HOMAIZI NUTS & FOOD', 'ADNOC ZAKHER S/S - 948', 'ABDUL SAMAD AL QURASHI', 'DAREEN INTL CO LLC-MOTHER', 'ADNOC AL GHAIL S/S-852', 'ADNOC AL KUWAITAT S/S-', 'LA BRIOCHE-REMAL MALL', 'FUTURE SPMKT', 'OSCAR CINEMA BARARI OUTLE', 'LULU HPMKT LLC - AUH 1', 'LULU HPMKT LLC - AUH 1', 'AL SAYER RETAIL ESTABLISH', 'AL AIN PHARMACY BAWADI MA', 'ADNOC MEZYAD S/S-757', 'KHAN ALSABOUN ALASLI PERF', 'ADNOC AL MUWAIJI S/S 9', 'LULU HPMKT LLC - AUH 1', 'ADNOC MARKHANIYA S/S99', 'ADNOC MARKHANIYA S/S99', 'AL AIN COOPERATIVE', 'ARMED FORCES COOP', 'ADNOC ZAKHER S/S - 948', 'ADNOC ZAKHER S/S - 948', 'FUTURE SPMKT', 'SAUDIAN KITCHEN-AUH', 'AL ROSTAMANI TRD CO-AL', 'MEGA MART-ZAKHER MALL', 'AL AMAAN TRAVEL AND HOLID', 'FALCON PACK', 'ADNOC MASAKIN S/S-774', 'SHAKESPEARE AND CO (BRANC', 'ADNOC AL BATEEN S/S-75', 'ARMED FORCES COOP', 'NEW AL SAFA CENTRE LLC', 'TELEGRAPH CAFE', 'ADNOC ZAKHER S/S - 948', 'LULU HYPERMARKET-SENAIYA', 'AL AIN COOPERATIVE', 'LULU HYPERMARKET-SENAIYA', 'HAFEET PHARMACY', 'BOOTS TAWAM PHARMACY-3858', 'NEW AL SAFA CENTRE LLC', 'ADNOC AL MASOUDI S/S-', 'LA BRIOCHE MAKANI MALL', 'THE BODY SHOP-MAKANI', 'KUWAIT FOOD CO AMERICANA', 'ADNOC MARKHANIYA S/S99', 'AL AIN COOPERATIVE', 'DUBAI DUTY FREE - TER 2', 'ARMED FORCES COOP', 'ADNOC ZAKHER S/S - 948', 'AL AIN PHARMACY ZAKHER LL', 'DUBAI DUTY FREE-T2 DEP', 'ARMED FORCES COOP', 'AL AIN COOPERATIVE', 'FOOT CARE CENTER LLC', 'AL JAZEERA DICOUNT MARKET', 'ABELA AL AIN SUPERM454', 'AL ANBAR -THE FACE SHOP', 'KUWAIT FOOD CO AMERICANA', 'FLY DUBAI', 'ADNOC MASAKIN S/S-774', 'AL AIN PHARMACY ZAKHER LL', 'SPHONE TRAFFIC FINES', 'JORDANIAN A/P DUTY F', 'ALHAMAWI ROASTERY', 'ADNOC ZAKHER S/S - 948', 'STARBUCKS', 'ALSULTAN BAKERY SPMKT', 'AL MALLAH REST N GRILL', 'NEW AL SAF CNTR', 'AL FOAH CO.', 'ADNOC ZAKHER S/S - 948', 'AL AIN COOPERATIVE', 'ADNOC AL BATEEN S/S-75', 'HORIZON CAFE', 'ADNOC AL BATEEN S/S-75', 'ARMED FORCES COOP', 'ADNOC ZAKHER S/S - 948', 'ADIDAS EMERGING MARKET', 'OSCAR CINEMA BARARI OUTLE', 'TELEGRAPH CAFE', 'ARMED FORCES COOP', 'SAUDIAN KITCHEN-AUH', 'ADNOC MASAKIN S/S-774', 'ADNOC ZAKHER S/S - 948', 'ROYAL HOUSE RESTAURANT', 'ARMED FORCES COOP', 'STAR BUCKS-CC4261', 'ALETIHAD CREDIT BUREAU PJ', 'ADNOC ZAKHER S/S - 948', 'ADNOC ZAKHER S/S - 948', 'ARMED FORCES COOP', 'ARMED FORCES COOP', 'Etisalat - Al Ain #2', 'NEW AL SAF CNTR', 'MEDICINA PHARMACY-BRANCH', 'MEDICINA PHARMACY-BRANCH', 'ADNOC ZAKHER S/S - 948', 'AL AIN COOPERATIVE', 'OSCAR CINEMA BARARI OUTLE', 'OSCAR CINEMA BARARI OUTLE', 'UNDER ARMOUR', 'CHOCO LOVERS CAFE', 'ADNOC ZAKHER S/S - 948', 'ROYAL HONEY BEE EST', 'HUZEFA GENERAL TRD LLC', 'ALETIHAD CREDIT BUREAU PJ', 'NAZIH TRADING CO', 'ADNOC ZAKHER S/S - 948', 'ARMED FORCES COOP', 'CARREFOUR', 'SUN AND SAND SPORTS-NIKE', 'ARMED FORCES COOP', 'ADNOC ZAKHER S/S - 948', 'ADNOC ZAKHER S/S - 948', 'ADNOC ZAKHER S/S - 948', 'ARMED FORCES COOP', 'ADNOC AL FAYA S/S-891', 'ARMED FORCES COOP', 'ADNOC ZAKHER S/S - 948'], [112.65, 117.0, 155.62, 81.0, 150.0, 100.0, 112.2, 9.75, 1100.0, 150.0, 116.0, 30.0, 105.0, 289.0, 1000.0, 50.0, 100.0, 100.0, 40.0, 799.75, 257.45, 557.0, 101.0, 32.45, 129.0, 14.77, 105.0, 321.0, 92.55, 179.0, 173.0, 148.0, 34000.0, 392.0, 64.0, 68.0, 70.0, 16.0, 76.01, 17.0, 100.0, 25.0, 129.02, 34.5, 237.0, 56.15, 78.0, 30.0, 110.01, 29.0, 66.75, 188.0, 532.75, 28.05, 84.0, 49.1, 350.0, 315.0, 50.0, 150.0, 150.0, 31.0, 40.38, 612.0, 100.0, 100.0, 217.25, 80.95, 91.25, 1245.0, 60.0, 18.0, 58.0, 294.0, 60.0, 33.0, 150.0, 56.0, 69.3, 55.0, 150.0, 170.2, 100.0, 415.0, 550.0, 150.0, 157.0, 106.0, 120.2, 30.0, 13.7, 9.0, 41.0, 46.0, 150.0, 40.0, 136.01, 718.7, 19.0, 100.0, 41.8, 33.75, 15.0, 149.02, 134.0, 200.0, 3000.0, 189.0, 895.0, 105.0, 77.02, 244.0, 51.5, 252.4, 89.45, 65.0, 155.01, 98.4, 376.05, 384.95, 48.0, 100.0, 98.2, 100.0, 105.0, 288.0, 31.0, 126.0, 123.8, 89.5, 64.5, 100.0, 69.0, 40.0, 148.8, 113.3, 200.0, 100.0, 386.05, 115.0, 66.0, 2801.6, 165.03, 115.0, 500.0, 123.62, 37.45, 100.0, 26.05, 108.7, 460.0, 36.15, 135.0, 173.02, 133.9, 30.5, 96.0, 28.0, 69.99, 14.0, 236.0, 100.0, 56.0, 68.55, 135.0, 145.01, 150.0, 210.0, 141.5, 57.0, 100.0, 75.0, 122.02, 43.25, 86.75, 500.0, 46.15, 157.5, 104.5, 140.02, 352.0, 23.0, 30.0, 178.0, 30.0, 89.5, 44.1, 62.0, 100.0, 69.0, 37.5, 139.64, 459.0, 277.0, 136.35, 35.0, 148.02, 100.0, 103.14, 129.8, 23.46, 135.02], [-112.65, -117.0, -155.62, -81.0, -150.0, -100.0, -112.2, -9.75, -1100.0, -150.0, -116.0, -30.0, -105.0, -289.0, -1000.0, -50.0, -100.0, -100.0, -40.0, -799.75, -257.45, -557.0, -101.0, -32.45, -129.0, -14.77, -105.0, -321.0, -92.55, -179.0, -173.0, -148.0, -34000.0, -392.0, -64.0, -68.0, -70.0, -16.0, -76.01, -17.0, -100.0, -25.0, -129.02, -34.5, -237.0, -56.15, -78.0, -30.0, -110.01, -29.0, -66.75, -188.0, -532.75, -28.05, -84.0, -49.1, -350.0, -315.0, -50.0, -150.0, -150.0, -31.0, -40.38, -612.0, -100.0, -100.0, -217.25, -80.95, -91.25, -1245.0, -60.0, -18.0, -58.0, -294.0, -60.0, -33.0, -150.0, -56.0, -69.3, -55.0, -150.0, -170.2, -100.0, -415.0, -550.0, -150.0, -157.0, -106.0, -120.2, -30.0, -13.7, -9.0, -41.0, -46.0, -150.0, -40.0, -136.01, -718.7, -19.0, -100.0, -41.8, -33.75, -15.0, -149.02, -134.0, -200.0, -3000.0, -189.0, -895.0, -105.0, -77.02, -244.0, -51.5, -252.4, -89.45, -65.0, -155.01, -98.4, -376.05, -384.95, -48.0, -100.0, -98.2, -100.0, -105.0, -288.0, -31.0, -126.0, -123.8, -89.5, -64.5, -100.0, -69.0, -40.0, -148.8, -113.3, -200.0, -100.0, -386.05, -115.0, -66.0, -2801.6, -165.03, -115.0, -500.0, -123.62, -37.45, -100.0, -26.05, -108.7, -460.0, -36.15, -135.0, -173.02, -133.9, -30.5, -96.0, -28.0, -69.99, -14.0, -236.0, -100.0, -56.0, -68.55, -135.0, -145.01, -150.0, -210.0, -141.5, -57.0, -100.0, -75.0, -122.02, -43.25, -86.75, -500.0, -46.15, -157.5, -104.5, -140.02, -352.0, -23.0, -30.0, -178.0, -30.0, -89.5, -44.1, -62.0, -100.0, -69.0, -37.5, -139.64, -459.0, -277.0, -136.35, -35.0, -148.02, -100.0, -103.14, -129.8, -23.46, -135.02]])\n",
      "('1001091', [[2], ['14K - 30K  income'], [15000.0], [20170104.0, 20170110.0, 20170104.0, 20170104.0, 20170126.0, 20170120.0, 20170129.0, 20170126.0, 20170126.0, 20170126.0, 20170118.0, 20170118.0, 20170102.0, 20170112.0, 20170203.0, 20170203.0, 20170208.0, 20170208.0, 20170213.0, 20170208.0, 20170226.0, 20170226.0, 20170226.0, 20170226.0, 20170223.0, 20170208.0, 20170208.0, 20170219.0, 20170218.0], [3034.0, 4722.0, 5311.0, 5691.0, 6300.0, 3034.0, 5541.0, 9399.0, 9399.0, 9399.0, 5912.0, 5311.0, 5411.0, 3381.0, 3236.0, 5411.0, 5691.0, 5941.0, 3236.0, 5541.0, 5411.0, 5411.0, 5912.0, 3236.0, 9399.0, 9399.0, 9399.0, 5411.0, 5541.0], ['ETIHADAIRWA', 'DNATATRAVEL.COM', 'SALAM STUDIO & STORES', 'AL WASEEM GARMENTS', 'ADNIC-ALAIN TRAFFIC', 'ETIHADAIRWA', 'ADNOC AL BATEEN S/S-75', 'AD POLICE AL BATEEN 24', 'AD POLICE AL BATEEN 24', 'AD POLICE AL BATEEN 24', 'PRINCE PHARMACY', 'HARRODS', 'CARREFOUR', 'Europcar', 'AIR ARABIA PJSC', 'TALLHA SUPERMARKET', 'AL WASEEM GARMENTS', 'SPORTS HOUSE', 'AIR ARABIA PJSC', 'ADNOC AL BATEEN S/S-75', 'TALLHA SUPERMARKET', 'TALLHA SUPERMARKET', 'QUALITY PHARMACY', 'AIR ARABIA PJSC', 'AL AIN CITY MUN-AL MAQ', 'ADJD-AL AIN COURTS13', 'AD JUD EAST REG COURT1', 'LULU HYPERMARKET LLC BR E', 'ADNOC AL BATEEN S/S-75'], [4180.0, 4007.0, 250.0, 209.0, 1100.0, 838.0, 222.0, 105.0, 2900.0, 260.0, 229.57, 332.27, 956.02, 60.15, 1079.44, 20.0, 224.0, 220.0, 1349.3, 100.0, 380.0, 50.0, 35.0, 1155.77, 745.0, 50.0, 100.0, 947.4, 100.0], [-4180.0, -4007.0, -250.0, -209.0, -1100.0, -838.0, -222.0, -105.0, -2900.0, -260.0, -229.57, -332.27, -956.02, -60.15, -1079.44, -20.0, -224.0, -220.0, -1349.3, -100.0, -380.0, -50.0, -35.0, -1155.77, -745.0, -50.0, -100.0, -947.4, -100.0]])\n",
      "('1001097', [[2, 6, 11], ['14K - 30K  income', '14K - 30K  income', '14K - 30K  income'], [38000.0, 38000.0, 10000.0], [20170114.0, 20170116.0, 20170114.0, 20170110.0, 20170110.0, 20170110.0, 20170211.0, 20170211.0, 20170214.0, 20170226.0, 20170226.0, 20170514.0, 20170514.0, 20170516.0, 20170515.0, 20170515.0, 20170508.0, 20170508.0, 20170505.0, 20170528.0, 20170515.0, 20170515.0, 20170515.0, 20170618.0, 20170614.0, 20170617.0, 20170617.0, 20170624.0, 20170621.0, 20170621.0, 20170610.0, 20170605.0, 20170608.0, 20170609.0, 20170603.0, 20171007.0, 20171011.0, 20171019.0, 20171020.0, 20171101.0, 20171108.0, 20171111.0, 20171109.0, 20171115.0, 20171123.0, 20171125.0, 20171123.0], [5651.0, 5945.0, 5735.0, 5411.0, 8398.0, 5411.0, 5661.0, 5661.0, 5735.0, 5311.0, 5977.0, 5735.0, 5944.0, 9399.0, 3026.0, 3026.0, 5944.0, 5912.0, 5912.0, 5944.0, 4722.0, 4722.0, 9399.0, 9399.0, 5735.0, 5651.0, 8099.0, 5999.0, 8699.0, 3236.0, 9399.0, 5621.0, 5699.0, 5999.0, 5621.0, 5944.0, 5411.0, 5812.0, 5411.0, 5945.0, 5411.0, 5814.0, 8211.0, 5811.0, 5641.0, 5651.0, 5651.0], ['LOURETAL FASHION', 'COLOR LAND CHILDRENS T', 'ITUNES.COM/BILL', 'CARREFOUR', 'ROYAL COLLEGE OF O', 'CARREFOUR', 'APPAREL SKET JIMI M', 'APPAREL SKET JIMI M', 'ITUNES.COM/BILL', 'MY SAFEER LLC', 'THE BODYSHOP LLC', 'ITUNES.COM/BILL', 'AL ROMAIZAN GOLD AND JEWE', 'NEW HAMAD INTERNATIONAL A', 'EMIRATES    0000493408938', 'EMIRATES    0000493408938', 'LIWA JEWELLERY', 'TAIBAH ALAIN PHARMACY', 'TAIBAH ALAIN PHARMACY', 'AL IMAN JEWELLERY-AL A', 'EDREAMSEUR', 'EDREAMSEUR', 'MOI-NRD-ALAIN', 'AUH POLICE KIOSK', 'ITUNES.COM/BILL', 'AL SHAMSI HOLDING -VINCCI', 'KAYA SKIN CLINIC', 'NAZIH TRADING CO.LLC.', 'ROYAL COLLEGE OF PHYSI', 'AIR ARABIA PJSC', 'SMART DUBAI GOVERNMENT', 'SHEIN.COM', 'RIVOLI(TEXTILE)', 'NAZIH TRADING CO.LLC.', 'www.floryday.com', 'LIWA JEWELLERY', 'AL AIN FLOWER MARKET LLC', 'WAFI GOURMET BR OF WAFI', 'CARREFOUR', 'COLOR LAND CHILDRENS T', 'AMAL TRADING CENTER', 'ROSE MAITHA', 'LITTLE PEARLS NURSERY', 'SHAHAD AL JAZEERA SWEETS', 'OSH KOSH BGOSH', 'VICTORIA S SECRET CC 4009', 'AL SHAMSI HOLDING -VINCCI'], [150.0, 119.0, 3.69, 464.0, 1660.65, 783.21, 304.0, 608.0, 3.69, 118.0, 419.0, 3.69, 6850.0, 103.91, 318.03, 318.03, 2000.0, 175.0, 741.0, 6200.0, 388.52, 70.33, 54.06, 115.0, 3.69, 381.0, 2460.0, 1173.86, 2959.09, 2451.4, 100.0, 851.32, 1955.0, 1100.0, 620.26, 2000.0, 84.5, 73.9, 58.85, 129.0, 141.05, 100.0, 375.0, 195.0, 405.0, 195.0, 94.5], [-150.0, -119.0, -3.69, -464.0, -1660.65, -783.21, -304.0, -608.0, -3.69, -118.0, -419.0, -3.69, -6850.0, -103.91, -318.03, -318.03, -2000.0, -175.0, -741.0, -6200.0, -388.52, -70.33, -54.06, -115.0, -3.69, -381.0, -2460.0, -1173.86, -2959.09, -2451.4, -100.0, -851.32, -1955.0, -1100.0, -620.26, -2000.0, -84.5, -73.9, -58.85, -129.0, -141.05, -100.0, -375.0, -195.0, -405.0, -195.0, -94.5]])\n",
      "('1001120', [[7], ['30K+ Income'], [100000.0], [20170611.0, 20170611.0, 20170611.0, 20170621.0, 20170621.0, 20170622.0], [4900.0, 4900.0, 4900.0, 5511.0, 5511.0, 5511.0], ['ADDC', 'ADDC', 'ADDC', 'ALMASAOOD AUTOMOBILES', 'ALMASAOOD AUTOMOBILES', 'ALMASAOOD AUTOMOBILES'], [6000.0, 9000.0, 2000.0, 50000.0, 50000.0, 60000.0], [-6000.0, -9000.0, -2000.0, -50000.0, -50000.0, -60000.0]])\n"
     ]
    }
   ],
   "source": [
    "print_samples(d0to1_new)"
   ]
  },
  {
   "cell_type": "markdown",
   "metadata": {},
   "source": [
    "Now finally, we'll upload the dictionary into the main dataframe"
   ]
  },
  {
   "cell_type": "code",
   "execution_count": 48,
   "metadata": {},
   "outputs": [
    {
     "name": "stdout",
     "output_type": "stream",
     "text": [
      "             Month                              Income Band  \\\n",
      "681607     [8, 11]               [30K+ Income, 30K+ Income]   \n",
      "228056      [5, 9]               [30K+ Income, 30K+ Income]   \n",
      "1475833  [2, 6, 9]  [30K+ Income, 30K+ Income, 30K+ Income]   \n",
      "1475832        [4]                      [10K - 14K  income]   \n",
      "2932922       [11]                            [30K+ Income]   \n",
      "909903        [10]                      [14K - 30K  income]   \n",
      "839790         [5]                      [14K - 30K  income]   \n",
      "2980261       [12]                            [< 8K income]   \n",
      "287148    [10, 12]               [30K+ Income, 30K+ Income]   \n",
      "2620367       [11]                      [14K - 30K  income]   \n",
      "\n",
      "                        Credit Limit  \\\n",
      "681607            [30000.0, 30000.0]   \n",
      "228056          [120000.0, 120000.0]   \n",
      "1475833  [36100.0, 36100.0, 36100.0]   \n",
      "1475832                    [11300.0]   \n",
      "2932922                     [5000.0]   \n",
      "909903                     [50000.0]   \n",
      "839790                     [36000.0]   \n",
      "2980261                     [6000.0]   \n",
      "287148            [40000.0, 40000.0]   \n",
      "2620367                    [30000.0]   \n",
      "\n",
      "                                           Trans Date/Time  \\\n",
      "681607   [20170710.0, 20170710.0, 20170711.0, 20170707....   \n",
      "228056   [20170424.0, 20170415.0, 20170416.0, 20170416....   \n",
      "1475833   [20161229.0, 20170528.0, 20170813.0, 20170830.0]   \n",
      "1475832                                                 []   \n",
      "2932922                                       [20171006.0]   \n",
      "909903   [20170923.0, 20170921.0, 20170923.0, 20170830....   \n",
      "839790   [20170415.0, 20170420.0, 20170421.0, 20170414....   \n",
      "2980261  [20171116.0, 20171116.0, 20171115.0, 20171116....   \n",
      "287148   [20170921.0, 20170919.0, 20170921.0, 20170921....   \n",
      "2620367                                                 []   \n",
      "\n",
      "                                                 MerchType  \\\n",
      "681607   [9399.0, 9399.0, 9399.0, 5541.0, 6011.0, 4722....   \n",
      "228056   [4121.0, 5735.0, 7011.0, 7011.0, 4121.0, 4121....   \n",
      "1475833                   [9399.0, 5699.0, 5311.0, 7399.0]   \n",
      "1475832                                                 []   \n",
      "2932922                                           [5309.0]   \n",
      "909903   [5977.0, 5651.0, 5122.0, 5812.0, 3381.0, 7011....   \n",
      "839790   [5411.0, 9399.0, 5411.0, 4812.0, 5541.0, 5411....   \n",
      "2980261  [5541.0, 5047.0, 5641.0, 5814.0, 5541.0, 7278....   \n",
      "287148   [7941.0, 5411.0, 5977.0, 5814.0, 5411.0, 5411....   \n",
      "2620367                                                 []   \n",
      "\n",
      "                                                 MerchName  \\\n",
      "681607   [AUH POLICE KIOSK, AUH POLICE KIOSK, AD POLICE...   \n",
      "228056   [UBER GB APR24 LRBFC HELP., ITUNES.COM/BILL, C...   \n",
      "1475833  [AUH POLICE KIOSK, ETSY.COM, PAYPAL *UBUY, PAY...   \n",
      "1475832                                                 []   \n",
      "2932922                           [DUBAI DUTY FREE- C2 FI]   \n",
      "909903   [SEPHORA EMIRATES LLC, JUILEA DOMANI HAUTE, WH...   \n",
      "839790   [FIRST SAFEER CENTRE, UKVI, AL AIN COOPERATIVE...   \n",
      "2980261  [ADNOC-AL CORNICHE-933, AL NOOR HOSPITAL-RADIO...   \n",
      "287148   [FIT & FLEX SPORTS CONT, SPINNEYS-MANGROVE, IB...   \n",
      "2620367                                                 []   \n",
      "\n",
      "                                                    Amount  \\\n",
      "681607   [2300.0, 3150.0, 325.0, 177.0, 100.0, 2981.7, ...   \n",
      "228056   [29.47, 3.69, 1715.24, 1715.24, 51.92, 50.19, ...   \n",
      "1475833                    [125.0, 186.34, 2026.42, 26.78]   \n",
      "1475832                                                 []   \n",
      "2932922                                           [1000.0]   \n",
      "909903   [370.0, 3000.0, 233.0, 138.54, 824.68, 305.82,...   \n",
      "839790   [171.5, 1657.22, 102.9, 290.0, 98.01, 112.05, ...   \n",
      "2980261  [87.01, 80.0, 255.0, 39.0, 30.0, 69.0, 17.0, 2...   \n",
      "287148   [75.0, 182.15, 133.0, 268.0, 521.6, 32.0, 1620...   \n",
      "2620367                                                 []   \n",
      "\n",
      "                                                     Spend  \n",
      "681607   [-2300.0, -3150.0, -325.0, -177.0, -100.0, -29...  \n",
      "228056   [-29.47, -3.69, -1715.24, -1715.24, -51.92, -5...  \n",
      "1475833                [-125.0, -186.34, -2026.42, -26.78]  \n",
      "1475832                                                 []  \n",
      "2932922                                          [-1000.0]  \n",
      "909903   [-370.0, -3000.0, -233.0, -138.54, -824.68, -3...  \n",
      "839790   [-171.5, -1657.22, -102.9, -290.0, -98.01, -11...  \n",
      "2980261  [-87.01, -80.0, -255.0, -39.0, -30.0, -69.0, -...  \n",
      "287148   [-75.0, -182.15, -133.0, -268.0, -521.6, -32.0...  \n",
      "2620367                                                 []  \n"
     ]
    }
   ],
   "source": [
    "## we can use the from_dict method to upload the dictionaries w/ data into the datafrome. Then, we can label said data.\n",
    "def upload_dict_to_dataframes(d0to1_new):\n",
    "    d0to1_df = pd.DataFrame.from_dict(data=d0to1_new, orient='index', dtype=object)\n",
    "    # rename column headers (8 pieces of information total...)\n",
    "    d0to1_df.columns = ['Month', 'Income Band', 'Credit Limit', 'Trans Date/Time', \\\n",
    "                        'MerchType', 'MerchName', 'Amount', 'Spend']\n",
    "    d0to1_df.name = '0|->1 revolving flag transition'\n",
    "    return (d0to1_df)\n",
    "\n",
    "d0to1_df = upload_dict_to_dataframes(d0to1_new)\n",
    "print(d0to1_df[:10])\n",
    "#ALL the relevant data is in the "
   ]
  },
  {
   "cell_type": "markdown",
   "metadata": {},
   "source": [
    "Code takes really long, even for 100 serial numbers. Find way to expedite process with perhaps other datatypes..."
   ]
  },
  {
   "cell_type": "code",
   "execution_count": null,
   "metadata": {},
   "outputs": [],
   "source": []
  }
 ],
 "metadata": {
  "kernelspec": {
   "display_name": "Python 2",
   "language": "python",
   "name": "python2"
  },
  "language_info": {
   "codemirror_mode": {
    "name": "ipython",
    "version": 2
   },
   "file_extension": ".py",
   "mimetype": "text/x-python",
   "name": "python",
   "nbconvert_exporter": "python",
   "pygments_lexer": "ipython2",
   "version": "2.7.15"
  }
 },
 "nbformat": 4,
 "nbformat_minor": 2
}
